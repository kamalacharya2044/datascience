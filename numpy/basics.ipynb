{
 "cells": [
  {
   "cell_type": "code",
   "execution_count": 1,
   "metadata": {
    "collapsed": true
   },
   "outputs": [],
   "source": [
    "import numpy as np"
   ]
  },
  {
   "cell_type": "code",
   "execution_count": 2,
   "metadata": {
    "collapsed": true
   },
   "outputs": [],
   "source": [
    "a = np.array([1, 5, 7, 8])"
   ]
  },
  {
   "cell_type": "code",
   "execution_count": 3,
   "metadata": {
    "collapsed": true
   },
   "outputs": [],
   "source": [
    "b = np.array((3, 4, 9, 1))"
   ]
  },
  {
   "cell_type": "code",
   "execution_count": 4,
   "metadata": {
    "collapsed": false
   },
   "outputs": [
    {
     "data": {
      "text/plain": [
       "array([ 4,  9, 16,  9])"
      ]
     },
     "execution_count": 4,
     "metadata": {},
     "output_type": "execute_result"
    }
   ],
   "source": [
    "# adds array element wise\n",
    "a + b"
   ]
  },
  {
   "cell_type": "code",
   "execution_count": 5,
   "metadata": {
    "collapsed": false
   },
   "outputs": [
    {
     "data": {
      "text/plain": [
       "array([2, 6, 8, 9])"
      ]
     },
     "execution_count": 5,
     "metadata": {},
     "output_type": "execute_result"
    }
   ],
   "source": [
    "# adding scalar to array => adds scalar to element :: broadcast value\n",
    "a + 1"
   ]
  },
  {
   "cell_type": "code",
   "execution_count": 6,
   "metadata": {
    "collapsed": false
   },
   "outputs": [
    {
     "data": {
      "text/plain": [
       "array([1, 5, 7, 8])"
      ]
     },
     "execution_count": 6,
     "metadata": {},
     "output_type": "execute_result"
    }
   ],
   "source": [
    "a"
   ]
  },
  {
   "cell_type": "code",
   "execution_count": 7,
   "metadata": {
    "collapsed": true
   },
   "outputs": [],
   "source": [
    "r = np.arange(21)"
   ]
  },
  {
   "cell_type": "code",
   "execution_count": 8,
   "metadata": {
    "collapsed": false
   },
   "outputs": [
    {
     "data": {
      "text/plain": [
       "array([ 0,  1,  2,  3,  4,  5,  6,  7,  8,  9, 10, 11, 12, 13, 14, 15, 16,\n",
       "       17, 18, 19, 20])"
      ]
     },
     "execution_count": 8,
     "metadata": {},
     "output_type": "execute_result"
    }
   ],
   "source": [
    "r"
   ]
  },
  {
   "cell_type": "code",
   "execution_count": 9,
   "metadata": {
    "collapsed": true
   },
   "outputs": [],
   "source": [
    "%matplotlib notebook"
   ]
  },
  {
   "cell_type": "code",
   "execution_count": 10,
   "metadata": {
    "collapsed": false
   },
   "outputs": [],
   "source": [
    "from matplotlib.pyplot import plot"
   ]
  },
  {
   "cell_type": "code",
   "execution_count": 11,
   "metadata": {
    "collapsed": false
   },
   "outputs": [],
   "source": [
    "aa = r * np.pi / 10"
   ]
  },
  {
   "cell_type": "code",
   "execution_count": 12,
   "metadata": {
    "collapsed": false
   },
   "outputs": [
    {
     "data": {
      "text/plain": [
       "array([ 0.        ,  0.31415927,  0.62831853,  0.9424778 ,  1.25663706,\n",
       "        1.57079633,  1.88495559,  2.19911486,  2.51327412,  2.82743339,\n",
       "        3.14159265,  3.45575192,  3.76991118,  4.08407045,  4.39822972,\n",
       "        4.71238898,  5.02654825,  5.34070751,  5.65486678,  5.96902604,\n",
       "        6.28318531])"
      ]
     },
     "execution_count": 12,
     "metadata": {},
     "output_type": "execute_result"
    }
   ],
   "source": [
    "aa"
   ]
  },
  {
   "cell_type": "code",
   "execution_count": 13,
   "metadata": {
    "collapsed": false
   },
   "outputs": [
    {
     "data": {
      "text/plain": [
       "array([  0.00000000e+00,   3.09016994e-01,   5.87785252e-01,\n",
       "         8.09016994e-01,   9.51056516e-01,   1.00000000e+00,\n",
       "         9.51056516e-01,   8.09016994e-01,   5.87785252e-01,\n",
       "         3.09016994e-01,   1.22464680e-16,  -3.09016994e-01,\n",
       "        -5.87785252e-01,  -8.09016994e-01,  -9.51056516e-01,\n",
       "        -1.00000000e+00,  -9.51056516e-01,  -8.09016994e-01,\n",
       "        -5.87785252e-01,  -3.09016994e-01,  -2.44929360e-16])"
      ]
     },
     "execution_count": 13,
     "metadata": {},
     "output_type": "execute_result"
    }
   ],
   "source": [
    "np.sin(aa)"
   ]
  },
  {
   "cell_type": "code",
   "execution_count": 14,
   "metadata": {
    "collapsed": true
   },
   "outputs": [],
   "source": [
    "bb = np.sin(aa)"
   ]
  },
  {
   "cell_type": "code",
   "execution_count": 15,
   "metadata": {
    "collapsed": false
   },
   "outputs": [
    {
     "data": {
      "application/javascript": [
       "/* Put everything inside the global mpl namespace */\n",
       "window.mpl = {};\n",
       "\n",
       "mpl.get_websocket_type = function() {\n",
       "    if (typeof(WebSocket) !== 'undefined') {\n",
       "        return WebSocket;\n",
       "    } else if (typeof(MozWebSocket) !== 'undefined') {\n",
       "        return MozWebSocket;\n",
       "    } else {\n",
       "        alert('Your browser does not have WebSocket support.' +\n",
       "              'Please try Chrome, Safari or Firefox ≥ 6. ' +\n",
       "              'Firefox 4 and 5 are also supported but you ' +\n",
       "              'have to enable WebSockets in about:config.');\n",
       "    };\n",
       "}\n",
       "\n",
       "mpl.figure = function(figure_id, websocket, ondownload, parent_element) {\n",
       "    this.id = figure_id;\n",
       "\n",
       "    this.ws = websocket;\n",
       "\n",
       "    this.supports_binary = (this.ws.binaryType != undefined);\n",
       "\n",
       "    if (!this.supports_binary) {\n",
       "        var warnings = document.getElementById(\"mpl-warnings\");\n",
       "        if (warnings) {\n",
       "            warnings.style.display = 'block';\n",
       "            warnings.textContent = (\n",
       "                \"This browser does not support binary websocket messages. \" +\n",
       "                    \"Performance may be slow.\");\n",
       "        }\n",
       "    }\n",
       "\n",
       "    this.imageObj = new Image();\n",
       "\n",
       "    this.context = undefined;\n",
       "    this.message = undefined;\n",
       "    this.canvas = undefined;\n",
       "    this.rubberband_canvas = undefined;\n",
       "    this.rubberband_context = undefined;\n",
       "    this.format_dropdown = undefined;\n",
       "\n",
       "    this.image_mode = 'full';\n",
       "\n",
       "    this.root = $('<div/>');\n",
       "    this._root_extra_style(this.root)\n",
       "    this.root.attr('style', 'display: inline-block');\n",
       "\n",
       "    $(parent_element).append(this.root);\n",
       "\n",
       "    this._init_header(this);\n",
       "    this._init_canvas(this);\n",
       "    this._init_toolbar(this);\n",
       "\n",
       "    var fig = this;\n",
       "\n",
       "    this.waiting = false;\n",
       "\n",
       "    this.ws.onopen =  function () {\n",
       "            fig.send_message(\"supports_binary\", {value: fig.supports_binary});\n",
       "            fig.send_message(\"send_image_mode\", {});\n",
       "            fig.send_message(\"refresh\", {});\n",
       "        }\n",
       "\n",
       "    this.imageObj.onload = function() {\n",
       "            if (fig.image_mode == 'full') {\n",
       "                // Full images could contain transparency (where diff images\n",
       "                // almost always do), so we need to clear the canvas so that\n",
       "                // there is no ghosting.\n",
       "                fig.context.clearRect(0, 0, fig.canvas.width, fig.canvas.height);\n",
       "            }\n",
       "            fig.context.drawImage(fig.imageObj, 0, 0);\n",
       "        };\n",
       "\n",
       "    this.imageObj.onunload = function() {\n",
       "        this.ws.close();\n",
       "    }\n",
       "\n",
       "    this.ws.onmessage = this._make_on_message_function(this);\n",
       "\n",
       "    this.ondownload = ondownload;\n",
       "}\n",
       "\n",
       "mpl.figure.prototype._init_header = function() {\n",
       "    var titlebar = $(\n",
       "        '<div class=\"ui-dialog-titlebar ui-widget-header ui-corner-all ' +\n",
       "        'ui-helper-clearfix\"/>');\n",
       "    var titletext = $(\n",
       "        '<div class=\"ui-dialog-title\" style=\"width: 100%; ' +\n",
       "        'text-align: center; padding: 3px;\"/>');\n",
       "    titlebar.append(titletext)\n",
       "    this.root.append(titlebar);\n",
       "    this.header = titletext[0];\n",
       "}\n",
       "\n",
       "\n",
       "\n",
       "mpl.figure.prototype._canvas_extra_style = function(canvas_div) {\n",
       "\n",
       "}\n",
       "\n",
       "\n",
       "mpl.figure.prototype._root_extra_style = function(canvas_div) {\n",
       "\n",
       "}\n",
       "\n",
       "mpl.figure.prototype._init_canvas = function() {\n",
       "    var fig = this;\n",
       "\n",
       "    var canvas_div = $('<div/>');\n",
       "\n",
       "    canvas_div.attr('style', 'position: relative; clear: both; outline: 0');\n",
       "\n",
       "    function canvas_keyboard_event(event) {\n",
       "        return fig.key_event(event, event['data']);\n",
       "    }\n",
       "\n",
       "    canvas_div.keydown('key_press', canvas_keyboard_event);\n",
       "    canvas_div.keyup('key_release', canvas_keyboard_event);\n",
       "    this.canvas_div = canvas_div\n",
       "    this._canvas_extra_style(canvas_div)\n",
       "    this.root.append(canvas_div);\n",
       "\n",
       "    var canvas = $('<canvas/>');\n",
       "    canvas.addClass('mpl-canvas');\n",
       "    canvas.attr('style', \"left: 0; top: 0; z-index: 0; outline: 0\")\n",
       "\n",
       "    this.canvas = canvas[0];\n",
       "    this.context = canvas[0].getContext(\"2d\");\n",
       "\n",
       "    var rubberband = $('<canvas/>');\n",
       "    rubberband.attr('style', \"position: absolute; left: 0; top: 0; z-index: 1;\")\n",
       "\n",
       "    var pass_mouse_events = true;\n",
       "\n",
       "    canvas_div.resizable({\n",
       "        start: function(event, ui) {\n",
       "            pass_mouse_events = false;\n",
       "        },\n",
       "        resize: function(event, ui) {\n",
       "            fig.request_resize(ui.size.width, ui.size.height);\n",
       "        },\n",
       "        stop: function(event, ui) {\n",
       "            pass_mouse_events = true;\n",
       "            fig.request_resize(ui.size.width, ui.size.height);\n",
       "        },\n",
       "    });\n",
       "\n",
       "    function mouse_event_fn(event) {\n",
       "        if (pass_mouse_events)\n",
       "            return fig.mouse_event(event, event['data']);\n",
       "    }\n",
       "\n",
       "    rubberband.mousedown('button_press', mouse_event_fn);\n",
       "    rubberband.mouseup('button_release', mouse_event_fn);\n",
       "    // Throttle sequential mouse events to 1 every 20ms.\n",
       "    rubberband.mousemove('motion_notify', mouse_event_fn);\n",
       "\n",
       "    rubberband.mouseenter('figure_enter', mouse_event_fn);\n",
       "    rubberband.mouseleave('figure_leave', mouse_event_fn);\n",
       "\n",
       "    canvas_div.on(\"wheel\", function (event) {\n",
       "        event = event.originalEvent;\n",
       "        event['data'] = 'scroll'\n",
       "        if (event.deltaY < 0) {\n",
       "            event.step = 1;\n",
       "        } else {\n",
       "            event.step = -1;\n",
       "        }\n",
       "        mouse_event_fn(event);\n",
       "    });\n",
       "\n",
       "    canvas_div.append(canvas);\n",
       "    canvas_div.append(rubberband);\n",
       "\n",
       "    this.rubberband = rubberband;\n",
       "    this.rubberband_canvas = rubberband[0];\n",
       "    this.rubberband_context = rubberband[0].getContext(\"2d\");\n",
       "    this.rubberband_context.strokeStyle = \"#000000\";\n",
       "\n",
       "    this._resize_canvas = function(width, height) {\n",
       "        // Keep the size of the canvas, canvas container, and rubber band\n",
       "        // canvas in synch.\n",
       "        canvas_div.css('width', width)\n",
       "        canvas_div.css('height', height)\n",
       "\n",
       "        canvas.attr('width', width);\n",
       "        canvas.attr('height', height);\n",
       "\n",
       "        rubberband.attr('width', width);\n",
       "        rubberband.attr('height', height);\n",
       "    }\n",
       "\n",
       "    // Set the figure to an initial 600x600px, this will subsequently be updated\n",
       "    // upon first draw.\n",
       "    this._resize_canvas(600, 600);\n",
       "\n",
       "    // Disable right mouse context menu.\n",
       "    $(this.rubberband_canvas).bind(\"contextmenu\",function(e){\n",
       "        return false;\n",
       "    });\n",
       "\n",
       "    function set_focus () {\n",
       "        canvas.focus();\n",
       "        canvas_div.focus();\n",
       "    }\n",
       "\n",
       "    window.setTimeout(set_focus, 100);\n",
       "}\n",
       "\n",
       "mpl.figure.prototype._init_toolbar = function() {\n",
       "    var fig = this;\n",
       "\n",
       "    var nav_element = $('<div/>')\n",
       "    nav_element.attr('style', 'width: 100%');\n",
       "    this.root.append(nav_element);\n",
       "\n",
       "    // Define a callback function for later on.\n",
       "    function toolbar_event(event) {\n",
       "        return fig.toolbar_button_onclick(event['data']);\n",
       "    }\n",
       "    function toolbar_mouse_event(event) {\n",
       "        return fig.toolbar_button_onmouseover(event['data']);\n",
       "    }\n",
       "\n",
       "    for(var toolbar_ind in mpl.toolbar_items) {\n",
       "        var name = mpl.toolbar_items[toolbar_ind][0];\n",
       "        var tooltip = mpl.toolbar_items[toolbar_ind][1];\n",
       "        var image = mpl.toolbar_items[toolbar_ind][2];\n",
       "        var method_name = mpl.toolbar_items[toolbar_ind][3];\n",
       "\n",
       "        if (!name) {\n",
       "            // put a spacer in here.\n",
       "            continue;\n",
       "        }\n",
       "        var button = $('<button/>');\n",
       "        button.addClass('ui-button ui-widget ui-state-default ui-corner-all ' +\n",
       "                        'ui-button-icon-only');\n",
       "        button.attr('role', 'button');\n",
       "        button.attr('aria-disabled', 'false');\n",
       "        button.click(method_name, toolbar_event);\n",
       "        button.mouseover(tooltip, toolbar_mouse_event);\n",
       "\n",
       "        var icon_img = $('<span/>');\n",
       "        icon_img.addClass('ui-button-icon-primary ui-icon');\n",
       "        icon_img.addClass(image);\n",
       "        icon_img.addClass('ui-corner-all');\n",
       "\n",
       "        var tooltip_span = $('<span/>');\n",
       "        tooltip_span.addClass('ui-button-text');\n",
       "        tooltip_span.html(tooltip);\n",
       "\n",
       "        button.append(icon_img);\n",
       "        button.append(tooltip_span);\n",
       "\n",
       "        nav_element.append(button);\n",
       "    }\n",
       "\n",
       "    var fmt_picker_span = $('<span/>');\n",
       "\n",
       "    var fmt_picker = $('<select/>');\n",
       "    fmt_picker.addClass('mpl-toolbar-option ui-widget ui-widget-content');\n",
       "    fmt_picker_span.append(fmt_picker);\n",
       "    nav_element.append(fmt_picker_span);\n",
       "    this.format_dropdown = fmt_picker[0];\n",
       "\n",
       "    for (var ind in mpl.extensions) {\n",
       "        var fmt = mpl.extensions[ind];\n",
       "        var option = $(\n",
       "            '<option/>', {selected: fmt === mpl.default_extension}).html(fmt);\n",
       "        fmt_picker.append(option)\n",
       "    }\n",
       "\n",
       "    // Add hover states to the ui-buttons\n",
       "    $( \".ui-button\" ).hover(\n",
       "        function() { $(this).addClass(\"ui-state-hover\");},\n",
       "        function() { $(this).removeClass(\"ui-state-hover\");}\n",
       "    );\n",
       "\n",
       "    var status_bar = $('<span class=\"mpl-message\"/>');\n",
       "    nav_element.append(status_bar);\n",
       "    this.message = status_bar[0];\n",
       "}\n",
       "\n",
       "mpl.figure.prototype.request_resize = function(x_pixels, y_pixels) {\n",
       "    // Request matplotlib to resize the figure. Matplotlib will then trigger a resize in the client,\n",
       "    // which will in turn request a refresh of the image.\n",
       "    this.send_message('resize', {'width': x_pixels, 'height': y_pixels});\n",
       "}\n",
       "\n",
       "mpl.figure.prototype.send_message = function(type, properties) {\n",
       "    properties['type'] = type;\n",
       "    properties['figure_id'] = this.id;\n",
       "    this.ws.send(JSON.stringify(properties));\n",
       "}\n",
       "\n",
       "mpl.figure.prototype.send_draw_message = function() {\n",
       "    if (!this.waiting) {\n",
       "        this.waiting = true;\n",
       "        this.ws.send(JSON.stringify({type: \"draw\", figure_id: this.id}));\n",
       "    }\n",
       "}\n",
       "\n",
       "\n",
       "mpl.figure.prototype.handle_save = function(fig, msg) {\n",
       "    var format_dropdown = fig.format_dropdown;\n",
       "    var format = format_dropdown.options[format_dropdown.selectedIndex].value;\n",
       "    fig.ondownload(fig, format);\n",
       "}\n",
       "\n",
       "\n",
       "mpl.figure.prototype.handle_resize = function(fig, msg) {\n",
       "    var size = msg['size'];\n",
       "    if (size[0] != fig.canvas.width || size[1] != fig.canvas.height) {\n",
       "        fig._resize_canvas(size[0], size[1]);\n",
       "        fig.send_message(\"refresh\", {});\n",
       "    };\n",
       "}\n",
       "\n",
       "mpl.figure.prototype.handle_rubberband = function(fig, msg) {\n",
       "    var x0 = msg['x0'];\n",
       "    var y0 = fig.canvas.height - msg['y0'];\n",
       "    var x1 = msg['x1'];\n",
       "    var y1 = fig.canvas.height - msg['y1'];\n",
       "    x0 = Math.floor(x0) + 0.5;\n",
       "    y0 = Math.floor(y0) + 0.5;\n",
       "    x1 = Math.floor(x1) + 0.5;\n",
       "    y1 = Math.floor(y1) + 0.5;\n",
       "    var min_x = Math.min(x0, x1);\n",
       "    var min_y = Math.min(y0, y1);\n",
       "    var width = Math.abs(x1 - x0);\n",
       "    var height = Math.abs(y1 - y0);\n",
       "\n",
       "    fig.rubberband_context.clearRect(\n",
       "        0, 0, fig.canvas.width, fig.canvas.height);\n",
       "\n",
       "    fig.rubberband_context.strokeRect(min_x, min_y, width, height);\n",
       "}\n",
       "\n",
       "mpl.figure.prototype.handle_figure_label = function(fig, msg) {\n",
       "    // Updates the figure title.\n",
       "    fig.header.textContent = msg['label'];\n",
       "}\n",
       "\n",
       "mpl.figure.prototype.handle_cursor = function(fig, msg) {\n",
       "    var cursor = msg['cursor'];\n",
       "    switch(cursor)\n",
       "    {\n",
       "    case 0:\n",
       "        cursor = 'pointer';\n",
       "        break;\n",
       "    case 1:\n",
       "        cursor = 'default';\n",
       "        break;\n",
       "    case 2:\n",
       "        cursor = 'crosshair';\n",
       "        break;\n",
       "    case 3:\n",
       "        cursor = 'move';\n",
       "        break;\n",
       "    }\n",
       "    fig.rubberband_canvas.style.cursor = cursor;\n",
       "}\n",
       "\n",
       "mpl.figure.prototype.handle_message = function(fig, msg) {\n",
       "    fig.message.textContent = msg['message'];\n",
       "}\n",
       "\n",
       "mpl.figure.prototype.handle_draw = function(fig, msg) {\n",
       "    // Request the server to send over a new figure.\n",
       "    fig.send_draw_message();\n",
       "}\n",
       "\n",
       "mpl.figure.prototype.handle_image_mode = function(fig, msg) {\n",
       "    fig.image_mode = msg['mode'];\n",
       "}\n",
       "\n",
       "mpl.figure.prototype.updated_canvas_event = function() {\n",
       "    // Called whenever the canvas gets updated.\n",
       "    this.send_message(\"ack\", {});\n",
       "}\n",
       "\n",
       "// A function to construct a web socket function for onmessage handling.\n",
       "// Called in the figure constructor.\n",
       "mpl.figure.prototype._make_on_message_function = function(fig) {\n",
       "    return function socket_on_message(evt) {\n",
       "        if (evt.data instanceof Blob) {\n",
       "            /* FIXME: We get \"Resource interpreted as Image but\n",
       "             * transferred with MIME type text/plain:\" errors on\n",
       "             * Chrome.  But how to set the MIME type?  It doesn't seem\n",
       "             * to be part of the websocket stream */\n",
       "            evt.data.type = \"image/png\";\n",
       "\n",
       "            /* Free the memory for the previous frames */\n",
       "            if (fig.imageObj.src) {\n",
       "                (window.URL || window.webkitURL).revokeObjectURL(\n",
       "                    fig.imageObj.src);\n",
       "            }\n",
       "\n",
       "            fig.imageObj.src = (window.URL || window.webkitURL).createObjectURL(\n",
       "                evt.data);\n",
       "            fig.updated_canvas_event();\n",
       "            fig.waiting = false;\n",
       "            return;\n",
       "        }\n",
       "        else if (typeof evt.data === 'string' && evt.data.slice(0, 21) == \"data:image/png;base64\") {\n",
       "            fig.imageObj.src = evt.data;\n",
       "            fig.updated_canvas_event();\n",
       "            fig.waiting = false;\n",
       "            return;\n",
       "        }\n",
       "\n",
       "        var msg = JSON.parse(evt.data);\n",
       "        var msg_type = msg['type'];\n",
       "\n",
       "        // Call the  \"handle_{type}\" callback, which takes\n",
       "        // the figure and JSON message as its only arguments.\n",
       "        try {\n",
       "            var callback = fig[\"handle_\" + msg_type];\n",
       "        } catch (e) {\n",
       "            console.log(\"No handler for the '\" + msg_type + \"' message type: \", msg);\n",
       "            return;\n",
       "        }\n",
       "\n",
       "        if (callback) {\n",
       "            try {\n",
       "                // console.log(\"Handling '\" + msg_type + \"' message: \", msg);\n",
       "                callback(fig, msg);\n",
       "            } catch (e) {\n",
       "                console.log(\"Exception inside the 'handler_\" + msg_type + \"' callback:\", e, e.stack, msg);\n",
       "            }\n",
       "        }\n",
       "    };\n",
       "}\n",
       "\n",
       "// from http://stackoverflow.com/questions/1114465/getting-mouse-location-in-canvas\n",
       "mpl.findpos = function(e) {\n",
       "    //this section is from http://www.quirksmode.org/js/events_properties.html\n",
       "    var targ;\n",
       "    if (!e)\n",
       "        e = window.event;\n",
       "    if (e.target)\n",
       "        targ = e.target;\n",
       "    else if (e.srcElement)\n",
       "        targ = e.srcElement;\n",
       "    if (targ.nodeType == 3) // defeat Safari bug\n",
       "        targ = targ.parentNode;\n",
       "\n",
       "    // jQuery normalizes the pageX and pageY\n",
       "    // pageX,Y are the mouse positions relative to the document\n",
       "    // offset() returns the position of the element relative to the document\n",
       "    var x = e.pageX - $(targ).offset().left;\n",
       "    var y = e.pageY - $(targ).offset().top;\n",
       "\n",
       "    return {\"x\": x, \"y\": y};\n",
       "};\n",
       "\n",
       "/*\n",
       " * return a copy of an object with only non-object keys\n",
       " * we need this to avoid circular references\n",
       " * http://stackoverflow.com/a/24161582/3208463\n",
       " */\n",
       "function simpleKeys (original) {\n",
       "  return Object.keys(original).reduce(function (obj, key) {\n",
       "    if (typeof original[key] !== 'object')\n",
       "        obj[key] = original[key]\n",
       "    return obj;\n",
       "  }, {});\n",
       "}\n",
       "\n",
       "mpl.figure.prototype.mouse_event = function(event, name) {\n",
       "    var canvas_pos = mpl.findpos(event)\n",
       "\n",
       "    if (name === 'button_press')\n",
       "    {\n",
       "        this.canvas.focus();\n",
       "        this.canvas_div.focus();\n",
       "    }\n",
       "\n",
       "    var x = canvas_pos.x;\n",
       "    var y = canvas_pos.y;\n",
       "\n",
       "    this.send_message(name, {x: x, y: y, button: event.button,\n",
       "                             step: event.step,\n",
       "                             guiEvent: simpleKeys(event)});\n",
       "\n",
       "    /* This prevents the web browser from automatically changing to\n",
       "     * the text insertion cursor when the button is pressed.  We want\n",
       "     * to control all of the cursor setting manually through the\n",
       "     * 'cursor' event from matplotlib */\n",
       "    event.preventDefault();\n",
       "    return false;\n",
       "}\n",
       "\n",
       "mpl.figure.prototype._key_event_extra = function(event, name) {\n",
       "    // Handle any extra behaviour associated with a key event\n",
       "}\n",
       "\n",
       "mpl.figure.prototype.key_event = function(event, name) {\n",
       "\n",
       "    // Prevent repeat events\n",
       "    if (name == 'key_press')\n",
       "    {\n",
       "        if (event.which === this._key)\n",
       "            return;\n",
       "        else\n",
       "            this._key = event.which;\n",
       "    }\n",
       "    if (name == 'key_release')\n",
       "        this._key = null;\n",
       "\n",
       "    var value = '';\n",
       "    if (event.ctrlKey && event.which != 17)\n",
       "        value += \"ctrl+\";\n",
       "    if (event.altKey && event.which != 18)\n",
       "        value += \"alt+\";\n",
       "    if (event.shiftKey && event.which != 16)\n",
       "        value += \"shift+\";\n",
       "\n",
       "    value += 'k';\n",
       "    value += event.which.toString();\n",
       "\n",
       "    this._key_event_extra(event, name);\n",
       "\n",
       "    this.send_message(name, {key: value,\n",
       "                             guiEvent: simpleKeys(event)});\n",
       "    return false;\n",
       "}\n",
       "\n",
       "mpl.figure.prototype.toolbar_button_onclick = function(name) {\n",
       "    if (name == 'download') {\n",
       "        this.handle_save(this, null);\n",
       "    } else {\n",
       "        this.send_message(\"toolbar_button\", {name: name});\n",
       "    }\n",
       "};\n",
       "\n",
       "mpl.figure.prototype.toolbar_button_onmouseover = function(tooltip) {\n",
       "    this.message.textContent = tooltip;\n",
       "};\n",
       "mpl.toolbar_items = [[\"Home\", \"Reset original view\", \"fa fa-home icon-home\", \"home\"], [\"Back\", \"Back to  previous view\", \"fa fa-arrow-left icon-arrow-left\", \"back\"], [\"Forward\", \"Forward to next view\", \"fa fa-arrow-right icon-arrow-right\", \"forward\"], [\"\", \"\", \"\", \"\"], [\"Pan\", \"Pan axes with left mouse, zoom with right\", \"fa fa-arrows icon-move\", \"pan\"], [\"Zoom\", \"Zoom to rectangle\", \"fa fa-square-o icon-check-empty\", \"zoom\"], [\"\", \"\", \"\", \"\"], [\"Download\", \"Download plot\", \"fa fa-floppy-o icon-save\", \"download\"]];\n",
       "\n",
       "mpl.extensions = [\"eps\", \"jpeg\", \"pdf\", \"png\", \"ps\", \"raw\", \"svg\", \"tif\"];\n",
       "\n",
       "mpl.default_extension = \"png\";var comm_websocket_adapter = function(comm) {\n",
       "    // Create a \"websocket\"-like object which calls the given IPython comm\n",
       "    // object with the appropriate methods. Currently this is a non binary\n",
       "    // socket, so there is still some room for performance tuning.\n",
       "    var ws = {};\n",
       "\n",
       "    ws.close = function() {\n",
       "        comm.close()\n",
       "    };\n",
       "    ws.send = function(m) {\n",
       "        //console.log('sending', m);\n",
       "        comm.send(m);\n",
       "    };\n",
       "    // Register the callback with on_msg.\n",
       "    comm.on_msg(function(msg) {\n",
       "        //console.log('receiving', msg['content']['data'], msg);\n",
       "        // Pass the mpl event to the overriden (by mpl) onmessage function.\n",
       "        ws.onmessage(msg['content']['data'])\n",
       "    });\n",
       "    return ws;\n",
       "}\n",
       "\n",
       "mpl.mpl_figure_comm = function(comm, msg) {\n",
       "    // This is the function which gets called when the mpl process\n",
       "    // starts-up an IPython Comm through the \"matplotlib\" channel.\n",
       "\n",
       "    var id = msg.content.data.id;\n",
       "    // Get hold of the div created by the display call when the Comm\n",
       "    // socket was opened in Python.\n",
       "    var element = $(\"#\" + id);\n",
       "    var ws_proxy = comm_websocket_adapter(comm)\n",
       "\n",
       "    function ondownload(figure, format) {\n",
       "        window.open(figure.imageObj.src);\n",
       "    }\n",
       "\n",
       "    var fig = new mpl.figure(id, ws_proxy,\n",
       "                           ondownload,\n",
       "                           element.get(0));\n",
       "\n",
       "    // Call onopen now - mpl needs it, as it is assuming we've passed it a real\n",
       "    // web socket which is closed, not our websocket->open comm proxy.\n",
       "    ws_proxy.onopen();\n",
       "\n",
       "    fig.parent_element = element.get(0);\n",
       "    fig.cell_info = mpl.find_output_cell(\"<div id='\" + id + \"'></div>\");\n",
       "    if (!fig.cell_info) {\n",
       "        console.error(\"Failed to find cell for figure\", id, fig);\n",
       "        return;\n",
       "    }\n",
       "\n",
       "    var output_index = fig.cell_info[2]\n",
       "    var cell = fig.cell_info[0];\n",
       "\n",
       "};\n",
       "\n",
       "mpl.figure.prototype.handle_close = function(fig, msg) {\n",
       "    fig.root.unbind('remove')\n",
       "\n",
       "    // Update the output cell to use the data from the current canvas.\n",
       "    fig.push_to_output();\n",
       "    var dataURL = fig.canvas.toDataURL();\n",
       "    // Re-enable the keyboard manager in IPython - without this line, in FF,\n",
       "    // the notebook keyboard shortcuts fail.\n",
       "    IPython.keyboard_manager.enable()\n",
       "    $(fig.parent_element).html('<img src=\"' + dataURL + '\">');\n",
       "    fig.close_ws(fig, msg);\n",
       "}\n",
       "\n",
       "mpl.figure.prototype.close_ws = function(fig, msg){\n",
       "    fig.send_message('closing', msg);\n",
       "    // fig.ws.close()\n",
       "}\n",
       "\n",
       "mpl.figure.prototype.push_to_output = function(remove_interactive) {\n",
       "    // Turn the data on the canvas into data in the output cell.\n",
       "    var dataURL = this.canvas.toDataURL();\n",
       "    this.cell_info[1]['text/html'] = '<img src=\"' + dataURL + '\">';\n",
       "}\n",
       "\n",
       "mpl.figure.prototype.updated_canvas_event = function() {\n",
       "    // Tell IPython that the notebook contents must change.\n",
       "    IPython.notebook.set_dirty(true);\n",
       "    this.send_message(\"ack\", {});\n",
       "    var fig = this;\n",
       "    // Wait a second, then push the new image to the DOM so\n",
       "    // that it is saved nicely (might be nice to debounce this).\n",
       "    setTimeout(function () { fig.push_to_output() }, 1000);\n",
       "}\n",
       "\n",
       "mpl.figure.prototype._init_toolbar = function() {\n",
       "    var fig = this;\n",
       "\n",
       "    var nav_element = $('<div/>')\n",
       "    nav_element.attr('style', 'width: 100%');\n",
       "    this.root.append(nav_element);\n",
       "\n",
       "    // Define a callback function for later on.\n",
       "    function toolbar_event(event) {\n",
       "        return fig.toolbar_button_onclick(event['data']);\n",
       "    }\n",
       "    function toolbar_mouse_event(event) {\n",
       "        return fig.toolbar_button_onmouseover(event['data']);\n",
       "    }\n",
       "\n",
       "    for(var toolbar_ind in mpl.toolbar_items){\n",
       "        var name = mpl.toolbar_items[toolbar_ind][0];\n",
       "        var tooltip = mpl.toolbar_items[toolbar_ind][1];\n",
       "        var image = mpl.toolbar_items[toolbar_ind][2];\n",
       "        var method_name = mpl.toolbar_items[toolbar_ind][3];\n",
       "\n",
       "        if (!name) { continue; };\n",
       "\n",
       "        var button = $('<button class=\"btn btn-default\" href=\"#\" title=\"' + name + '\"><i class=\"fa ' + image + ' fa-lg\"></i></button>');\n",
       "        button.click(method_name, toolbar_event);\n",
       "        button.mouseover(tooltip, toolbar_mouse_event);\n",
       "        nav_element.append(button);\n",
       "    }\n",
       "\n",
       "    // Add the status bar.\n",
       "    var status_bar = $('<span class=\"mpl-message\" style=\"text-align:right; float: right;\"/>');\n",
       "    nav_element.append(status_bar);\n",
       "    this.message = status_bar[0];\n",
       "\n",
       "    // Add the close button to the window.\n",
       "    var buttongrp = $('<div class=\"btn-group inline pull-right\"></div>');\n",
       "    var button = $('<button class=\"btn btn-mini btn-primary\" href=\"#\" title=\"Stop Interaction\"><i class=\"fa fa-power-off icon-remove icon-large\"></i></button>');\n",
       "    button.click(function (evt) { fig.handle_close(fig, {}); } );\n",
       "    button.mouseover('Stop Interaction', toolbar_mouse_event);\n",
       "    buttongrp.append(button);\n",
       "    var titlebar = this.root.find($('.ui-dialog-titlebar'));\n",
       "    titlebar.prepend(buttongrp);\n",
       "}\n",
       "\n",
       "mpl.figure.prototype._root_extra_style = function(el){\n",
       "    var fig = this\n",
       "    el.on(\"remove\", function(){\n",
       "\tfig.close_ws(fig, {});\n",
       "    });\n",
       "}\n",
       "\n",
       "mpl.figure.prototype._canvas_extra_style = function(el){\n",
       "    // this is important to make the div 'focusable\n",
       "    el.attr('tabindex', 0)\n",
       "    // reach out to IPython and tell the keyboard manager to turn it's self\n",
       "    // off when our div gets focus\n",
       "\n",
       "    // location in version 3\n",
       "    if (IPython.notebook.keyboard_manager) {\n",
       "        IPython.notebook.keyboard_manager.register_events(el);\n",
       "    }\n",
       "    else {\n",
       "        // location in version 2\n",
       "        IPython.keyboard_manager.register_events(el);\n",
       "    }\n",
       "\n",
       "}\n",
       "\n",
       "mpl.figure.prototype._key_event_extra = function(event, name) {\n",
       "    var manager = IPython.notebook.keyboard_manager;\n",
       "    if (!manager)\n",
       "        manager = IPython.keyboard_manager;\n",
       "\n",
       "    // Check for shift+enter\n",
       "    if (event.shiftKey && event.which == 13) {\n",
       "        this.canvas_div.blur();\n",
       "        event.shiftKey = false;\n",
       "        // Send a \"J\" for go to next cell\n",
       "        event.which = 74;\n",
       "        event.keyCode = 74;\n",
       "        manager.command_mode();\n",
       "        manager.handle_keydown(event);\n",
       "    }\n",
       "}\n",
       "\n",
       "mpl.figure.prototype.handle_save = function(fig, msg) {\n",
       "    fig.ondownload(fig, null);\n",
       "}\n",
       "\n",
       "\n",
       "mpl.find_output_cell = function(html_output) {\n",
       "    // Return the cell and output element which can be found *uniquely* in the notebook.\n",
       "    // Note - this is a bit hacky, but it is done because the \"notebook_saving.Notebook\"\n",
       "    // IPython event is triggered only after the cells have been serialised, which for\n",
       "    // our purposes (turning an active figure into a static one), is too late.\n",
       "    var cells = IPython.notebook.get_cells();\n",
       "    var ncells = cells.length;\n",
       "    for (var i=0; i<ncells; i++) {\n",
       "        var cell = cells[i];\n",
       "        if (cell.cell_type === 'code'){\n",
       "            for (var j=0; j<cell.output_area.outputs.length; j++) {\n",
       "                var data = cell.output_area.outputs[j];\n",
       "                if (data.data) {\n",
       "                    // IPython >= 3 moved mimebundle to data attribute of output\n",
       "                    data = data.data;\n",
       "                }\n",
       "                if (data['text/html'] == html_output) {\n",
       "                    return [cell, data, j];\n",
       "                }\n",
       "            }\n",
       "        }\n",
       "    }\n",
       "}\n",
       "\n",
       "// Register the function which deals with the matplotlib target/channel.\n",
       "// The kernel may be null if the page has been refreshed.\n",
       "if (IPython.notebook.kernel != null) {\n",
       "    IPython.notebook.kernel.comm_manager.register_target('matplotlib', mpl.mpl_figure_comm);\n",
       "}\n"
      ],
      "text/plain": [
       "<IPython.core.display.Javascript object>"
      ]
     },
     "metadata": {},
     "output_type": "display_data"
    },
    {
     "data": {
      "text/html": [
       "<img src=\"data:image/png;base64,iVBORw0KGgoAAAANSUhEUgAAAoAAAAHgCAYAAAA10dzkAAAABHNCSVQICAgIfAhkiAAAIABJREFUeJzt3Xl4VdW5x/FvRANSDAgKIgJWWkVBBbUgTmgdcAQRtaIig7NxRAGL1aq1tQzON4q1gqJ1qCNUqqh1wBGHCg4IVbQK1ItDMREREMj9YyWXiBAIZ1j7nPP9PE8ezMk5ya85e5eXd++1XpAkSZIkSZIkSZIkSZIkSZIkSZIkSZIkSZIkSZIkSZIkSZIkSZIkSZIkSZIkSZIkSZIkSZIkSZIkSZIkSZIkSZIkSZIkSZIkSZIkSZIkSZIkSZIkSZIkSZIkSZIkSZIkSZIkSZIkSZIkSZIkSZIkSZIkSZIkSZIkSZIkSZIkSZIkSZIkSZIkSZIkSZIkSZIkSZIkSZIkSZIkSZIkSZIkSZKUo44CngMWACuANmt5fhPgL0B51WvuBhpnMJ8kSVJWbRA7QBYsAG4FTgUq1+H5fwF+CmwPdADaAXdkKpwkSZIyZ2dgObV3ANsQuoR71Xhsn6rXbZW5aJIkSdlTCB3AuuhE6BK+XuOx14Giqq9JkiTlvA1jB0iYEmApsKTGY99VPVaymucXAVsC32Q+miRJSqNNgP+wbreH5R0LwB+qAIqB+qwsAhtUPVaxmudvCczNTjRJkpRmWwHzYoeIwQLwh6ZV/bkb8FLVf/+C8K+Daat5/jcAc+bMoaRkdQ1C5aLZs+Gee+Dee2HpUujbF044Adq3h+HDh3PSSX/g7rvhvvuguBiOPz58bLNN7ORKt+HDh/OHP/whdgxlie934aioqKB169ZQwFfwCqEALGJlV6+I0NGrT7isWwxcBYwF3gc+BR4HrgaOrXr9H4CJ1NLpKykpsQDMcQsXwgMPwLhxMHUqHH44jBkDPXrARhutfF5xcTFdupTQpQtccw088UR4TdeusPvuMHAgHH00NGoU73+L0qe4uNhzu4D4fquQFMIikGMJ9/G9QujkvQ8sAg4kFIODgZ/XeP6JhEJwFjAT+Bjon8W8ypLKSpgyJRRtW2wB118PffrA3Lnw0EOhCKxZ/K1qo43giCPg4YfDa3r3huuuC99r0CB44YXwMyRJSppC6ADeX/WxJvVW+fxrQhGoPDVnDowfHzp3CxaEy7dTpkDnzlBUVPtre/TosdrHN98czj8fzjsP3norfO8jj4SmTWHAADjpJAhXG5RL1vR+Kz/5fquQrOWvO61FCVBeXl7uZYOE++47mDAhFGbPPgsHHhg6f0ccAfXrZ+ZnLlkCEyeGn/n007DffuFnHnkkNGiQmZ8pSVq7iooKGjduDGHS1+oWeeY9C8DUWAAmWGUlvPFGKMDuvReaNw+XZvv1gy23zG6WefPgrrtCls8/DwtLBg6E3XZbe9dRkpReFoCFcQ+gCsz8+WGBxo47wv77w7JlMGkSzJwJw4Zlv/gDaNUKLr44ZJg0Cb7/PmTbcceQdf787GeSJBUuew+psQOYEMuXw9/+Fjpsjz8Oe+0Vun1HHQUNG8ZOt3rffhsWkIwbBy++CIccsvKydL1V70yVJKWNHUALwFRZACbAihVhkcXzz8PJJ0P//vDTn8ZOVTcffwx33gm33w7du4dFKhvYn5ekjLAAtABMlQVgZJWVMHhw6P699BK0aBE7UWrmz4c994SePcOlYe8PlKT0swAsjG1glMdGjgwLPF5+OfeLPwj/GyZPDkXgFlvA0KGxE0mS8pEFoHLWuHFw9dXw3HP5NYatXbtwH+O++4aVywMGxE4kSco3FoDKSX/7G5xzDjz2GHTqFDtN+nXuDI8+GhaENGsW/pQkKV28zVw558UXwz5648eHLlm+2m+/sDCkb99wf6MkSeliB1A55Z13QjfsmmvCFi/5rk8f+OKLMJf4hRegY8fYiSRJ+cACUDnjk0/g4IPhggvg9NNjp8meM84Iq4N79AiLXdq2jZ1IkpTrvASsnPDll6EA6t0bLr00dprsu+yyMEO4R4/wu5AkKRUWgEq8hQvh0ENhp53ghhsKc2+8oiK48cYwOu6ww8LvRJKk9WUBqERbujTcB7fJJnDXXYU9Iq1ePbj7bmjUCI4+OvxuJElaHxaASqwVK8IeeF9+CY88AvXrx04UX/364Xfx+edhbvCKFbETSZJykQWgEql6xNtrr8Hf/w5O2luppCRsFD11Klx4YfhdSZJUF64CViKNGAH3358f830zoUULePJJ2GOPMDJu2LDYiSRJucQCUIkzdiz88Y/5N+It3bbZBp54Arp3DyPjBg6MnUiSlCssAJUoEyfCuefm74i3dOvUKYyMO/xw2GwzR8ZJktaN9wAqMV58EY4/Pv9HvKXbfvuF35kj4yRJ68oOoBKhesTbtdcWxoi3dOvTJ6yWPuIImDLFkXGSpNpZACq66hFvgwfDaafFTpO7Tj/dkXGSpHXjJWBF9cUXcNBBYcTbb34TO03uu/RSR8ZJktbOAlDRLFwYxprtvHPhjnhLt5oj4w491JFxkqTVswBUFNUj3kpKHPGWbtUj4zbZJPyOHRknSVqVBaCyzhFvmVc9Mu7LLx0ZJ0n6MQtAZVX1iLfXXw/jzDbZJHai/FVSEsboOTJOkrQqVwErq/74x5Uj3po3j50m/9UcGdeiBVx8cexEkqQksABU1tx+e5jx+/zzjnjLpuqRcfvuG4ruQYNiJ5IkxWYBqKyYOBHOOw8mTQqrfpVdq46M69kzdiJJUkzeA6iMmzFj5Yi37t1jpylc++4b3oPjjw/viSSpcLnzWmpKgPLy8nJKSkpiZ0mkyko48MCwL91118VOI4Dzz4f33gv3Brr3oqRCVFFRQePGjQEaAxWR40RhB1AZ9eij8Pbb8Nvfxk6iapdfDtOmwYQJsZNIkmKxAFTGfPdd2PLlD3+AJk1ip1G1Jk3CezJ4MCxeHDuNJCkGC0BlzDXXQNOmYSNiJcugQaEQvOaa2EkkSTF4B1BqvAdwDebMge23h8mTYc89Y6fR6rz0EvToATNnwlZbxU4jSdnjPYAWgKmyAFyDvn1XzqRVcp1wQlioc889sZNIUvZYALoPoDLghRfgscdCZ0nJNnIkbLcdvPgi7LVX7DSSpGzxHkCl1fLlcO65MHw4tGoVO43WplWr8F6de2547yRJhcECUGn15z/DN9/ABRfETqJ1NXgwlJeHUX2SpMJgAai0WbAALrkErr0WGjSInUbrqkGD8J5dckl4DyVJ+c8CUGnz29/CbrvBEUfETqK66tkTdtklbBItScp/rgJOjauAq7z7LvziF/DWW9C+few0Wh/vvx+KwDfegA4dYqeRpMxxFbAdQKVBZSWcdx6cdZbFXy7bfns488zwXlZWxk4jScokC0Cl7JFHQgfwsstiJ1GqLrsszG5+9NHYSSRJmWQBqJRUz/u9+moI3XTlsiZNwns5eHB4byVJ+ckCUCkZPRo23xwGDIidROkycCA0a+acYEnKZy4CSU1BLwL59NNw39jTT0O3brHTKJ1efhkOOigsDGndOnYaSUovF4FYAKaqoAvA446D4mIYPz52EmVCv36wbBnce2/sJJKUXhaAzgLWenr+eZg0CWbNip1EmTJiRJgTPGUK7LNP7DSSpHTyHkDV2bJlYXbsb34DW24ZO40yZcstw3QQ5wRLUv6xAFSd3XYbLFoE558fO4ky7YILYOHC8J5LkvKHBaDq5L//DZ2/666D+vVjp1Gm1a8f3uvf/Ca895Kk/GABqDq57DLo0gUOOyx2EmXL4YeHGc+//W3sJJKkdHEVcGoKahXwO++E4m/atLA4QIVj5kzo3Blefx06doydRpJS4ypgO4BaR9XzfktLLf4KUfv2Ydazc4IlKT9YAGqdPPQQzJjhvN9CdtllYebzww/HTiJJSpUFoNZq0SK48MIwI7YArnRrDRo3DsfAhRc6J1iScp0FoNZq1Cho0QL694+dRLENGBBmP48aFTuJJCkVLgJJTd4vAvnkE9hhB3jmGejaNXYaJcGrr8L++4c5wW3axE4jSXXnIhALwFTlfQF47LHQsCHccUfsJEqS/v1h8WK4//7YSSSp7iwAnQWsWjz3HDzxhPN+9WN//CNsu22YCd29e+w0kqS68h5ArVb1vN9LL4WWLWOnUdK0bBmOjXPPDceKJCm3WABqtf70p3CJ77zzYidRUp13Xlgh7pxgSco9FoD6ka++CrNfr78eiotjp1FS1a8fjhHnBEtS7rEA1I9cdhl06waHHho7iZLusMPC6nA3CJek3OIq4NTk3Srg6dNh993Dn9tuGzuNcsGsWdCpE0ydCjvtFDuNJK2dq4DtAKqG6nm/55xj8ad1t912cPbZzgmWpFxiAaj/98ADMHNmuKdLqotLLw0bQz/4YOwkkqR1YQEoIKzmvOgiGDHCeb+qu5KSsDfgRReFY0mSlGwWgAJC4deyJfTrFzuJctVJJ8EWW8DIkbGTSJLWxkUgqcmLRSDV836ffRa6dImdRrls6lT45S9hxgxo2zZ2GklaPReBWACmKi8KwGOOgUaNYNy42EmUDwYMgG+/DfeUSlISWQA6C7jgTZ8OkybB7NmxkyhfXH01tGsHb7/ttjCSlFTeA1jgRo0KHRvn/SpdWraE/v3DsSVJSiYvAacmpy8B//vf0L59uF9rm21ip1E+mT0bOnQIm0R7L6CkpPESsB3AgnbttXDkkRZ/Sr927aBXr3CMSZKSxw5ganK2A/jll6Ez88ILsMsusdMoH735JuyzD3z6KTRrFjuNJK1kB9AOYMEqK4M99rD4U+bsuit06xaONUlSslgAFqBFi+Cmm2Do0NhJlO+GDg3HmtNBJClZLAAL0Nix0KYNHHBA7CTKdwceCK1bu8ekJCWNBWCBWbYMrrkGhg2DIu8AVYYVFYUu4OjR4diTJCWDBWCBeeCB8Jdynz6xk6hQHH10OOYefDB2EklSNQvAAlJZCSNGwEUXwYbOgFGWbLghXHhhOPYqK2OnkSSBBWBBefJJ+M9/YODA2ElUaAYOhLlz4amnYieRJEHhFIBXAPOAb4HngA61PHcasAJYXuPPkzKcLytGjoRzzoGNN46dRIWmYcNw7I0cGTuJJAkKowAcApwB9AZaAu8Bk4GGa3h+JVAKNKj62Bi4K/MxM+uNN2DqVCgtjZ1Ehaq0FF55JWwQLUmKqxAKwDOBm4DXCLt9DyHs/N27ltcsB74HllZ95PydSyNHwimnQNOmsZOoUDVrFo5Bu4CSFF++F4AlwNbA6zUeWwTMADrX8rrhwFxgKjAUKM5Qvqz48EOYOBEGD46dRIVu8GCYMAFmz46dRJIKWyEUgABfr/L4ghpfW9XvCd3BfYDRwHmEDmLOGj0ajj02bP4sxdS2LRxzTDgmJUnx5PtmINUDnpus8ngT4N01vKbmbmUfEbp/txEuJa9Y3QuGDx9OcXFoEvbo0YMePXqsb960mz8f7rwTXnstdhIpGDIEunaFyy+HFi1ip5FUKCZPnszkyZMBWLp0aeQ08RXCLIiPgNsJnT0IizrmExaG3LMOrz8WuBPYBFh1lkEJUF5eXk5JyZoainFdcglMmwaTJsVOIq106KGwyy5w1VWxk0gqRBUVFTRu3BjCmoCKtTw9L+X7JWCAm4GzgV2ARsDVQDnwKFAfGAVsX/Xc1kAfYEvCQbE/8AdCVzDnBll98w3cfHMYxSUlydChUFYGCxfGTiJJhakQCsDRwK3AJELnrxNwMGExSANgMPDzquduVPX5O8BnhOLxHuC07EZOj9tug+22g332iZ1E+qHu3WHbbcMxKknKvkK4BJxJib0EvHQpbLMN3HQT9K5twxspkocfhvPOCyuCi3N6nb2kXOMl4MLoABake++Fn/wEevaMnURavV69wlSa++6LnUSSCo8FYB5asSJstjtkCNSrFzuNtHr16oVjdOTIcMxKkrLHAjAP/f3v8N//Qr9+sZNItevXD776Ch5/PHYSSSosFoB5aMQIOP98qF8/dhKpdg0ahPsAR4yInUSSCosFYJ55+WWYPh3OOCN2EmndnHFG2KvylVdiJ5GkwmEBmGdGjgx/oYbFTVLyNWkCp58ejl1JUna4DUxqErUNzPvvQ+fO8NFHsOWWsdNI627ePGjXLnQC27ePnUZSvnMbGDuAeWXUKDjxRIs/5Z5WreCEE8IxLEnKPDuAqUlMB9AOinKdHWxJ2WIH0A5g3rj+ejjkEIs/5a7tt4eDDw7HsiQps+wApiYRHcCvv4Y2bWDyZOjWLVoMKWUvvxyKwDlzXMgkKXPsANoBzAtjxkCnThZ/yn177AE77xyOaUlS5lgA5rjFi8Mls2HDYieR0mPYsHBML14cO4kk5S8LwBx3112w2Wbh/j8pHxx6KDRtCnffHTuJJOUvC8Actnx52DZj6FDYwHdSeWKDDcIxPWpUOMYlSeln2ZDDJkwIl8n69o2dREqvvn1h0SKYODF2EknKTxaAOaqyEkaMgAsugI02ip1GSq/i4nBsjxgRjnVJUnpZAOao55+HDz6AU0+NnUTKjFNPhVmzYMqU2EkkKf9YAOaokSPhrLOgUaPYSaTM2GSTcIyPHBk7iSTlHzeCTk2UjaDffht23x3+/W9o3jxrP1bKuvnzYeut4bXXYMcdY6eRlC/cCNoOYE4aORIGDLD4U/5r0SIc63YBJSm97ACmJusdwE8+gW23hRkzoF27rPxIKaoPP4QOHeBf/4K2bWOnkZQP7ADaAcw5114LRx5p8afC8bOfQa9ecN11sZNIUv6wA5iarHYAv/oK2rQJqyJ33TXjP05KjDfegH33DR3wZs1ip5GU6+wA2gHMKWVl0K2bxZ8Kz267QdeucPPNsZNIUn6wAMwRixbBTTfBsGGxk0hxDBsGN94YzgVJUmosAHPEuHHQujUccEDsJFIcBx4IW20Fd9wRO4kk5T4LwBywbBmMHg1Dh0KRd22qQBUVhXNg9OhwTkiS1p8FYA548MHwl9/RR8dOIsV1zDFhNvBDD8VOIkm5zQIw4SorYcQIuPBC2HDD2GmkuDbcMJwLI0aEc0OStH4sABPuqadg7lwYODB2EikZBg2CTz+Fp5+OnUSScpcFYMKNGgXnnAMNG8ZOIiVDw4bhnBg1KnYSScpdLilITUY3gp45Ezp1gjlzYPPN0/7tpZz1+edhU/Tp02G77WKnkZRr3AjaDmCi3XxzuOnd4k/6oebNw6IoN4aWpPVjAZhQCxfCnXdCaWnsJFIylZaGPQEXLoydRJJyjwVgQt19N/zsZ2H8laQf2313aNcO/vKX2EkkKfdYACZQZWWY+1ta6sbP0poUFYVzpKzMLWEkqa4sABPohRdg3jw47rjYSaRk69s3bJP04ouxk0hSbrEATKCysrDXmVu/SLVr2DDskVlWFjuJJOUWZ0skzGefwaOPwowZsZNIueHMM6FDh3DutGwZO40k5QY7gAnzpz/B/vuHm9slrd3Pfga//CXcdlvsJJKUOywAE+T77+HWW936Raqr0tJw7nz/fewkkpQbLAAT5NFHoUEDOPjg2Emk3HLIIVBcDBMmxE4iSbnBAjBBysrC/Uz16sVOIuWWevXCueNiEElaNxaACfHuuzB1alj9K6nuBg2CV1+F996LnUSSks8CMCFuvjns+9esWewkUm7abDP41a+cDyxJ68ICMAEqKuCuu1z8IaWqtBTGjw/nlCRpzSwAE2D8eNhhB9htt9hJpNz2i1/A9tuHf1BJktbMAjCyyspwycrun5QezgeWpLWzAIzs2Wfhiy/g2GNjJ5Hyw69+BZ9/Ds89FzuJJCWXBWBkZWVw8slh/z9JqWvQIJxTbgkjSWvmLOCI5s6Fxx6DWbNiJ5HyyxlnQPv24RzbaqvYaSQpeewARnTrrdCjB2y9dewkUn756U/hoIPCbG1J0o9ZAEaydGkYXu/iDykzSktDAbh0aewkkpQ8FoCRPPQQbLIJHHhg7CRSfjrooHCOPfxw7CSSlDwWgJGUlcFZZ8EGvgNSRmywgfOBJWlNLD8imD4d3noLBgyInUTKbwMHwptvwttvx04iScliARhBWRkcfzxsumnsJFJ+23TTcK7ZBZSkHyqKHSDHlQDl5eXllJSUrNMLvv4aWrWCl16CTp0yG05S6LbvtRfMmwdNmsROIykJKioqaNy4MUBjoCCnh9sBzLI77giFn8WflB2dO8POO8Odd8ZOIknJYQGYRStWOPdXiqG0NJx7K1bETiJJyWABmEVPPw3l5dCnT+wkUmE5+mhYsAD+8Y/YSSQpGSwAs6isDE49FerXj51EKiz164dzz8UgkhS4CCQ167wI5JNPYNtt4cMPoXXr7ISTtNKnn8LPfw4ffABt2sROIykmF4HYAcyaMWPgsMMs/qRY2rSBQw8N56IkFToLwCxYvBj+/GcXf0ixlZaGc3HJkthJJCkuC8AseOAB2Gwz+OUvYyeRCtv++0PTpuGclKRCZgGYBdVzf4u841KKqqgonIsuBpFU6CwAM+zNN+Hdd+Gkk2InkQTQvz+88w7885+xk0hSPBaAGVZWBv36QVhsJCm2xo3hxBPtAkoqbF6UTE2t28B89RVstRW8/jp07Jj9cJJW7513oGtXmDs33BMoqbC4DYwdwIwaNw66dLH4k5Jmxx1ht93COSpJhcgCMENWrIBbbnHrFympSkvDOep8YEmFyAIwQ554Ar77Dnr3jp1E0ur07g3ffguTJ8dOIknZZwGYIWVlcNppsNFGsZNIWp3i4nCOuhhEUiFyEUhqVrsIZPZs2GEH+Phj2HLLeOEk1W7ePNhmG5g5E37609hpJGWLi0DsAGbELbfAkUda/ElJ16oV9OwZzllJKiQWgGm2aBGMHeviDylXlJbC7beHe3YlqVBYAKbZffeFrsLee8dOImlddO8OLVvC/ffHTiJJ2WMBmEaVleGG8tJS5/5KucL5wJIKkQVgGk2dCh9+GMZMScod/frBrFnw2muxk0hSdlgAplFZWRg036hR7CSS6mKTTeCkk+wCSiocXqhMzf9vA7N4cQlt2sC0adC+fexYkupqxgzYdVeYMwc22yx2GkmZ5DYwdgDT5vbbYa+9LP6kXLXDDtCtWziXJSnfWQCmwfLlMGaMW79Iua56PvDy5bGTSFJmWQCmwRNPhBXARxwRO4mkVPTqBcuWwd//HjuJJGVWoRSAVwDzgG+B54AOtTy3CfAXoBxYANxNuEdgjW67DU4/HTbcMC1ZJUWy4YbhXHYxiKR8VwgF4BDgDKA30BJ4D5gMNFzD8/8C/BTYnlAotgPuqO0HvPQSnHJKmtJKiurUU+HZZ+GDD2InkaTMKYQC8EzgJuA1wkqfIYSOXu/VPLcNcAgwFPhP1ccwoCew1Zp+QK9e0KJFekNLimOLLeCoo5wPLCm/5XsBWAJsDbxe47FFwAyg82qe3wmoXOX5rxO2y+m0ph9y6qmpxpSUJKWlMG5cmO0tSfmoEApAgK9XeXxBja+t+vylwJIaj31X9djqng9Aly4pJJSUOHvuCW3bwj33xE4iKRMmTYqdIL58X7ZQvbljk1UebwK8u4bnFwP1WVkENqh6bI0bRV5yyXCKi4sB6NGjBz169EghsqTYiopCF7CsDE4+2dneUj6YPHkykydPprIS7rpraew40RXC/619BNwO/L7q842B+YSFIav++74N8DGwD/BS1WN7E1YOtwXmrvL8/58EUlKyxgahpBz07bfQqlXoFOy5Z+w0ktLlpZfg0EMrqKhwEki+uxk4G9gFaARcTdji5VFCp28UYcUvwKfA41XP2aLq4w/ARH5c/EnKYz/5CQwc6JYwUr4pK4MTToidIr5CKABHA7cCkwidv07AwYTFIA2AwcDPazz/REIhOAuYSegI9s9iXkkJcdZZ8NBDMH9+7CSS0mH+/HBOu3izMC4BZ5KXgKU816MH7L03/OY3sZNIStVVV8ELL8ADD1TQuLGXgCVJa1BaCrfeGkbEScpdy5aFc7m0NHaSZLAAlKRaHHYY1KsHEyfGTiIpFRMnhnP5sMNiJ0kGC0BJqkW9enDGGS4GkXJdWVk4l+vVi50kGbwHMDXeAygVgC++gNat4a23YPvt1/58Scny/vvQuTPMmQObbw4VFd4DaAdQktZi883h2GPh5ptjJ5G0Pm6+OZzDm28eO0lyWABK0jooLYU774RvvomdRFJdfPNNOHdd/PFDFoCStA66dIFtt4W7746dRFJd3H13OHe7dImdJFksACVpHdScD1xZGTuNpHVRWRnO2dJSZ3qvygJQktbRccfBZ5/BlCmxk0haF1OmhHP2uONiJ0keC0BJWkcbbwyDBrkljJQrysrCObvxxrGTJM+GsQNIUi4588ywFcx//gNbbhk7jaQ1mTcPJkwIW8Dox+wASlIdbLMNHHAA/OlPsZNIqs2f/gQHHhjOWf2YBaAk1VFpafjL5fvvYyeRtDpLl4Zz1K1f1swCUJLq6OCDwz1FjzwSO4mk1XnkEfjJT6BHj9hJkssCUJLqaIMNwr2ALgaRkqmsLJyjG1jlrJG/GklaD4MGwWuvwTvvxE4iqaZ33oE33oCBA2MnSTYLQElaD02bQt++zgeWkqasLJybTZvGTpJs7oudmhKgvLy8nJKSkthZJGXZm29C9+5hu4nGjWOnkVReDq1ahQ2gd9llzc+rqKigcThpGwMVWYqXKHYAJWk97bordOwI48fHTiIJ4M47Yccday/+FFgASlIKSkvDZWDnA0txVVaGc9GtX9aNBaAkpeCYY+DLL+GZZ2InkQrbP/4B//1vOCe1dhaAkpSCBg3glFPcEkaKrawsnIv168dOkhtcBJIaF4FI4pNPYNtt4cMPoXXr2GmkwvPpp/Dzn8MHH0CbNmt/votA7ABKUsratg3TQW69NXYSqTDdeisccsi6FX8KLAAlKQ1KS+G222DJkthJpMKyZEk491z8UTcWgJKUBgccEPYCfOih2EmkwvLgg7DpprD//rGT5BYLQElKgw02gLPOcjGIlG1lZeHcc+5v3fjrkqQ0GTAApk0LH5Iy7623YPp06N8/dpLcYwHzqYiUAAAZTUlEQVQoSWnSpAmccIJdQClbysrgxBPDuae6cRuY1LgNjKQfmD4dunUL84E33TR2Gil/LVgQ5v6++irstFPdXus2MHYAJSmtdt45zCG9447YSaT8Nm5cmMdd1+JPgQWgJKVZ9XzgFStiJ5Hy04oVzv1NlQWgJKVZnz7wzTfw1FOxk0j56cknYeFCOOqo2ElylwWgJKVZcTGceqqLQaRMKSuD004L55rWj4tAUuMiEEmrNXcutGsHs2bB1lvHTiPlj48/hvbt4aOPwiKQ9eEiEDuAkpQRW20Fhx8OY8bETiLllzFj4Igj1r/4U2ABKEkZUloKf/4zLF4cO4mUHxYvhttvd/FHOlgASlKG7LcfNG8Of/1r7CRSfrj/fmjRAvbdN3aS3GcBKEkZUlTkfGApnarn/ha5giFlFoCSlEEnnQQzZsAbb8ROIuW211+H99+Hfv1iJ8kPFoCSlEElJeEvLLuAUmrKysI/qNx0Iz1soqbGbWAkrdV778Fuu4WtYZo1i51Gyj1ffgmtW4dOeocOqX8/t4GxAyhJGdehA3TtCmPHxk4i5aaxY2H33dNT/CmwAJSkLCgthVtugeXLYyeRcsvy5eHcceuX9LIAlKQsOPJIWLIEnngidhIptzz+OCxdCr16xU6SXywAJSkLNtoozC51MYhUN2VlcPrp4RxS+rgIJDUuApG0zj77LMwFnjEjzAmWVLsPPwz3/f3739CyZfq+r4tA7ABKUta0bBkuBd9yS+wkUm645Rbo3Tu9xZ8CC0BJyqLS0rCicdGi2EmkZFu0KJwrLv7IDAtAScqivfeGVq3gvvtiJ5GS7d57w95/e+0VO0l+sgCUpCwqKgodjbIyqKyMnUZKpsrKcI6Uljr3N1MsACUpy048MdzcPnVq7CRSMr36KsyeDSecEDtJ/rIAlKQsa9QI+vd3SxhpTcrKYMCAcK4oM2yspsZtYCStl5kzoVMn+PRTaN48dhopOT7/HNq0genTYbvtMvMz3AbGDqAkRdG+fVgQMmZM7CRSstxyC+yzT+aKPwUWgJIUyZAhcNNNbgkjVVu0KJwTQ4bETpL/LAAlKZIDDwzbXIwbFzuJlAxjx4bLvwccEDtJ/rMAlKRIiopg6FC45hpYtix2GimuZcvCuTBsmFu/ZIMFoCRFdPTR4c8HH4ybQ4rtgQdC4denT+wkhcECUJIi2nBDuPBCGDHCjaFVuCorwzlw0UXhnFDmWQBKUmQDB8LcufD007GTSHE89RTMmxf2/lN2WABKUmQNG8I554QOiFSIRoyAc88N54KywwJQkhKgtBReeQXefDN2Eim73ngjjEUsLY2dpLBYAEpSAjRrBqecAiNHxk4iZdfIkeHYb9o0dpLC4q2WkpQQgwfDttvC7NnQrl3sNFLmffghTJgAH3wQO0nhsQMoSQnRti0cc0zYC00qBNdcA8ceGzZ/Vna51WJqSoDy8vJySkpKYmeRlAfefht23x3+/W9o3jx2Gilz5s+HrbeG116DHXfM7s+uqKigcePGAI2Biuz+9GSwAyhJCbLTTrDvvnDjjbGTSJl1443wy19mv/hTYAEoSQkzdCiUlcHChbGTSJnxzTdw883hWFccFoCSlDDdu4fFILfdFjuJlBm33QbbbQf77BM7SeGyAJSkhCkqgmHD4Npr4fvvY6eR0mvpUrjuunCMF7kSIRoLQElKoF69YOON4d57YyeR0uvee8PEj549YycpbBaAkpRA9erBkCFhk9wVK2KnkdJjxYpwTA8ZEo5xxWMBKEkJ1a8ffPklPP547CRSevz97/Df/8KJJ8ZOIgtASUqoBg3g/PNhxIjYSaT0GDEiHNMNGsROIgtASUqwM86AadPglVdiJ5FS8/LLMH16OKYVnwWgJCVYkyZw+unhvikpl40cGYq/MIBDsbkAOzWOgpOUcfPmQbt2oRPYvn3sNFLdvf8+dO4MH30EW24ZO42j4MAOoCQlXqtWcPzxMHp07CTS+hk9Gk44IRnFnwI7gKmxAygpK5LWQZHWVRI72HYA7QBKUk7Yfns4+GC4/vrYSaS6uf56OOSQ5BR/CuwApsYOoKSsefnlUATOmeON9MoNX38NbdrA5MnQrVvsNCvZAbQDKEk5Y489YOedYcyY2EmkdTNmDHTqlKziT4EFoCTlkGHDwiW1JUtiJ5Fqt3gx3HBDOGaVPBaAkpRDDj0UmjaFu+6KnUSq3V13QbNm4f4/JY8FoCTlkA02gKFDYdQoWL48dhpp9ZYvD8fo0KHhmFXy5PvbcjTwPrAYeA/ovZbnXwesAJbX+HNsJgNKUl317QuLFsHEibGTSKs3YQJ89x0cd1zsJFqTfC4AuwL3AFcDTYFRwP3ALmt53V+BBlUfGwOnZjCjJNVZcTFccAGMGAGVlbHTSD9UWRmOzcGDw7GqZMrnAvB04AVgPLAIuAN4EThzLa9bAXwPLK368CKLpMQ59VSYNQumTImdRPqh55+HDz4Ix6iSK58LwE7Aa6s89jrQeS2vOwD4FHgb+B+gRfqjSVJqNtkEzjoLRo6MnUT6oZEjw7HZqFHsJKrNhrEDrIfLgT61fP1NYABhk+avV/nagqrH1+QR4GFgLtAW+D3wJLAboSsoSYlx7rmw9dbwzjuw446x00jw9tvw7LNwxx2xk2htcrEA/AvwTC1fL6/6swJossrXmlD7jt81L6Z8DBwLzAG6AC+t6UXDhw+nuOpGhx49etCjR49afoQkpUeLFtC/f1htOX587DRSOBYHDIDmzWMn+bHJkyczefJkAJYuXRo5TXz5PApuLNAaOLDGY08TCrt1vTOhOfC/wL78sDis5ig4SVF9+CF07Aj/+lcYuSXF8sknsN128N570K5d7DS1cxRcft8DeCuwD9AXqA8cD+wF3FLjOecDR9T4/BRgG2ATYCfgTuADfnwvoSQlws9+Bj17wrXXxk6iQnfttdCrV/KLPwX53AGEcK/gVcDWhM7fcODRGl9/C3gWGFz1+QTC5d5Ngc+rvnYZ8Mkavr8dQEnRvfEG7Ltv6MA0axY7jQrRV1+FDvSUKbDrrrHTrJ0dwPwvADPNAlBSIuy/fygCL700dhIVoiuvDMXf00/HTrJuLADz+xKwJBWMoUPhxhvD9AUpmxYtgptuCsegcocFoCTlgYMOgq22gnHjYidRoRk3Dlq3hgMPXPtzlRwWgJKUB4qKQgdm9GhYtix2GhWKZcvCMTd0aDgGlTssACUpTxxzTJjD+tBDsZOoUDz4YCj8jj46dhLVlQWgJOWJDTeECy+EESNCIShlUmVlONYuvDAce8otFoCSlEcGDYJPP82d1ZjKXU89BXPnwsCBsZNofVgASlIeadgQzjkHRo6MnUT5buTIcKw1bBg7idaHBaAk5Zmzz4aXX4Y334ydRPnqzTfhlVegtDR2Eq0vC0BJyjPNmsHJJ8OoUbGTKF+NHAmnnOLkmVzmbZuSlIcGD4b27WH2bGezKr1mz4YJE2DWrNhJlAo7gJKUh7beOmzNcc01sZMo34weHbYcats2dhKlwm0bU+MsYEmJNX06dOsWOjYtW8ZOo3zw2WewzTYwdSrstFPsNOvPWcB2ACUpb+28Mxx2GAwfHjuJ8sWvfw2HH57bxZ8C7wGUpDw2ejTssAOceSZ06RI7jXLZ1KnwwAMwY0bsJEoHO4CSlMfatoWLLgr7ta1YETuNctWKFeEYGjLEe//yhQWgJOW5YcPCvVt33RU7iXLV+PEwfz4MHRo7idLFAlCS8lzDhuFS8LBhUFGQt7srFRUVcPHF4Rhy6kf+sACUpAJwzDFhX8CrroqdRLnmd7+D7bcP2wopf7gNTGrcBkZSznj7bejaNWwPs+22sdMoF8yaBZ065f62L6tyGxg7gJJUMHbaCQYNggsuiJ1EueKCC8JYwXwq/hRYAEpSAbnySnjlFZg0KXYSJd2kSaHzd+WVsZMoEywAJamANGsW7gO84AJYujR2GiXVkiVw/vnhWGnaNHYaZYIFoCQVmNNOgwYN4IYbYidRUt1wQ1jxe9ppsZMoU1wEkhoXgUjKSc89Bz17hpv8nROsmj77LCwSeuwx6N49dprMcBGIBWCqLAAl5axjjw1dnjvuiJ1ESdK/PyxeDPffHztJ5lgAOgtYkgrWqFEr5wR37Ro7jZLg1VfhwQfh/fdjJ1GmeQ+gJBWotm3DaC/nBAtWzvsdNgzatImdRplmAShJBWzoUPj8c7jzzthJFNsdd8AXX8CQIbGTKBssACWpgG28cZjx+utfQ3l57DSKpbw8HAPXXBOOCeU/C0BJKnB9+oR7AX/3u9hJFMuVV0LHjnDUUbGTKFtcBZwaVwFLygvvvANdusBbb0H79rHTKJtmzoTOneH110MRWAhcBWwHUJIE7LhjmPl6wQVQWRk7jbKlsjJM/DjllMIp/hRYAEqSgHAZ8LXXnBNcSB57DN54A664InYSZZsFoCQJCDNfr7oqdISWLImdRpm2ZEno+DrvtzBZAEqS/t9pp0GjRnD99bGTKNOuuy6816eeGjuJYnARSGpcBCIp70yZAocdFuYEb7ll7DTKhHnzwmKfv/8d9t47dprscxGIBWCqLAAl5aXjjoPiYhg/PnYSZUK/frBsGdx7b+wkcVgAOgtYkrQao0aFDtGZZ0K3brHTKJ1efhkeecR5v4XOewAlST/SujVcfDGce65zgvPJihXhPb344vAeq3BZAEqSVuuii+DLL8OMWOWHcePgq6/gwgtjJ1FsFoCSpNXaeOMwG9Y5wfnh66/De3nttc77lQWgJKkWvXuHCRFXXhk7iVJ15ZWw005w5JGxkygJXAWcGlcBS8p7774Lv/gF/POfsP32sdNofbz/PuyyS5j60aFD7DTxuQrYDqAkaS06dgybBZ9/vnOCc1H1vN/TTrP400oWgJKktbriCnjzTfjb32InUV1NnBi6t5dfHjuJksQCUJK0VptuCr//fZgdu3hx7DRaV4sXw+DB4b3bdNPYaZQkFoCSpHVyyilQUhJmyCo3XHstNG4MJ58cO4mSxkUgqXERiKSC8sILcOihMHMmtGoVO41qM3dumObyxBOw116x0ySLi0AsAFNlASip4PTtC/Xqwd13x06i2pxwQlgAcs89sZMkjwWgs4AlSXU0cmTYDuall2DPPWOn0eq89BJMmBA6tdLqeA+gJKlOas4JXr48dhqtavlyOOecMPVjq61ip1FSWQBKkursootgwYIwW1bJMnZsGPvmvF/VxgJQklRnDRqsnBP89dex06jaggUwfHhY/dugQew0SjILQEnSejnySOjUKWwSrWS44gro3Bl69YqdREnnIhBJ0nopKoIbboAuXWDvveGoo2InKmwPPwx//jO89lp4b6Ta2AGUJK23HXYI24ycdBI8/3zsNIXruefCe3DvveE9kdbGAlCSlJKePUMnsFcvmDYtdprCM21a+N3feCMccUTsNMoVXgKWJKXs5JPh88/h4IPh5Zdhm21iJyoMs2eH3/mvfw2DBsVOo1xiAShJSouLL4b58+Ggg8JGxC1axE6U3+bPhx49wmSWYcNip1Gu8RKwJCktiorC9iNdu4Z5wRUFOWArOyoq4JBDYPfdw3Y8LvpQXVkASpLSZoMNwubQm20GvXvDkiWxE+WfJUvC77Z587Dp8wb+Ta714GEjSUqr4mJ46CH45hvo189xcem0fDmceCIsXAgPPhh+19L6sACUJKVdo0YwaRJMnw7nnQeVlbET5b7KyjB/+Z13wu+2UaPYiZTLXAQiScqIzTeHJ5+EPfYIC0IuvTR2otz2u9/BhAlhgc1mm8VOo1xnAShJypi2bWHy5DAppHlzOP302Ily05gxcP31MGVK+J1KqbIAlCRlVMeO8Le/hf3qNt/ckXF19dBDcNFFoZDu2DF2GuUL7wGUJGXcXnutHBn33HOx0+SOZ59dOeJtzz1jp1E+sQCUJGVFz55hXJkj49bNW2/BkUfC//yPI96Ufl4CliRlzaBBjoxbF7Nnh42ehw+HgQNjp1E+sgCUJGXVsGGOjKtN9Yi344+HoUNjp1G+8hKwJCmriorC+LKuXUOXy5FxK9Uc8TZ6tCPelDkWgJKkrKseGde8uSPjqi1ZEu75c8SbssHDS5IURXFxGGe2cKEj46pHvH37rSPelB0WgJKkaKpHxr39dhhzVogj4yor4ZxzHPGm7HIRiCQpqs02C5scV4+Mu+yy2Imy68orYeLEsCraEW/KFgtASVJ0q46MO+OM2ImyY8wYuOGGMOKtTZvYaVRILAAlSYmw6si4Pn1iJ8qsBx90xJvi8R5ASVJi7LVXGHvWv39+j4x79lkYMADuu88Rb4rDAlCSlChHHAE33RS2RMnHkXE1R7wdfnjsNCpUXgKWJCXOwIErR8a99BK0axc7UXpUj3i75JLQAZRisQCUJCXS0KHwv/8bxqLlw8i46vF3xx8PQ4bETqNC5yVgSVIiVY+M23132HVX+O1v4eOPY6equ48/Dtl33RW6dXPEm5LBAlCSlFgbbAB33gllZTB9Omy3Hey3H9x1FyxaFDvdmn37LYwfH7Jut13IXlYW/rc44k1J4L9BUlMClJeXl1NSUhI7iyTlvfnz4S9/CXOEP/kEfvWrcC/dHnvE76pVVobNnMeNg7/+NextOHBgGPHWvHncbPqhiooKGjduDNAYqIgcJwr/HSJJyhktWsDgwWF03DPPhJm5hx8O7dvDH/8I//lP9jPNmwdXXx0yHH441K8fsr39dshq8acksgOYGjuAkhTZ4sUwYULovD3zDBxwQOi89ewZirFMWLJk5c/8xz/gl78MP7NXL2jQIDM/U+ljBzC/O4DbA48Bc4EVwEnr+LorgHnAt8BzQIdMhJMkpUeDBuFS8BNPwEcfhc2khw+Hli3h7LPhzTfD5dlUVVaG73X22eF7X3JJGF330UfhZ//qVxZ/yh35XAB+D0wAerPu1f0Q4Iyq17QE3gMmAw0zEVC5Z/LkybEjKIt8v3PPVluF4u9f/wodukWLoHt32HlnuP56+OKLNb92Te/3F1/AddeF77HvvvDddzBxYvgZw4eHnynlmnwuAD8EbgNeB9b1335nAjcBrxGKxiGE9nDvTARU7rEgKCy+37mrqCh058aODXsJDh4MjzwSirWjjgozh7///oevqfl+f/99KPJ694ZWrUIxeeGF8NlncPvtocsYe9GJlIp8LgDrqgTYmlAwVlsEzAA6xwgkSUpdo0ZhpfDzz8OMGdChA5SWQuvWYUPmGTNWPve99+Cii8LXzjkHdtwR3n8/zCXu3z98Lykf5OIkkMuBPrV8/U1gwHp83+pVHF+v8viCGl9brYqKgrx/tCAtXbrU97uA+H7nn803D0Xf4MGhILznHthlF+jYEebMWcrNN1fQsyfcemu4dFy9Z5+HQX7xvM7NVcA/J9yftyblwPRVHlsAnAeMr+V1JYTi7xDCfX/VXgVeBC5azWtaERaZSJKk3LMVYeFnwcnFDuAHVR/pVgH8G9iNlQXgxsAOwI1reM1/CAfPNxnII0mSMmcTwt/jykP1gQaEDuDJVZ/Xq/H184Ejanx+EfAZsAvQCLgemIOrgCVJknJCC8L+f8tX+fhDjee8BVy7yusuJxSB7gMoSZIkSZIkFTqnhhSG61jZTa7+c2zUREqnowjn7wLC+9tmla/vBDxP2BZqLvDbbIZT2tX2fjfmh1eOqv971WNCueMKwtW+bwhX9+4FWtf4uue36mwIMB/oQlhBXEY4eLxfMP9cB9wHbAQUV33Uq/UVyiX7AX2Bo/nxX/aNCDeJ30S4Ybwr8DlhVwHlptre78ZVj3Vg5blenO2ASqs/AQcBWxBGxD4DTKv6mue31stHwG9qfN6Q8C+ME+LEUQZdB9wTO4Qybmd+XBD0J+wQUHPC62VkZicCZdfq3u/qDuC2URIpG/YlvO+NKfDz20kg68epIYXnAOBT4G3gfwiLjJT/dibMBF9c47HXgW0I3QPlp78BnxC6RUdFzqL02huYTdgzuKDPbwvA9bPeU0OUkx4hTJ/pDpxLKPKfJFwSVn6r3iC+pgU1vqb8spjQFToS6AFMItz+0TdmKKXNEYTt3gZVfV7Q53cubgSdBNUzZJqs8ngT4N0sZ1HmTanx3x8DxxL2h+wCvBQlkbKlgh8v7mpS42vKL0uAu2p8PhNoTygY7o2SSOnyK8LVm16E6V5Q4Oe3HcD1U3NqSLXqqSH/jBFIWfV91Z8uBMl/0wjndf0aj/2CcA/wwiiJlG1L8VzPdWcTJnodTFgBXs3zW+vFqSGF4xTCPSGbELYMeByYxQ9vHFbuKiL8BdCFlQsA6lc93oiw1dN1wE+AXYH/xVWCuay293sPYB9gs6qPAYRtvk6OEVRpcQXhnO1MeJ+rP8DzWym4HKeGFIIJhPd5MWEhyJ1A26iJlE6/YvVTgw6q+npHwm0AiwhbRlwaIaPSp7b3uydhodc3hEUCbxCKQOWmevz4va7+fIeq53h+S5IkSZIkSZIkSZIkSZIkSZIkSZIkSZIkSZIkSZIkSZIkSZIkSZIkSZIkSZIkSZIkSZIkSZIkSZIkSZIkSZIkSZIkSZIkSZIkSZIkSZIkSZIkSZIkSZIkSZIkSZIkSZIkSZIkSZIkSZIkSZIkSZIkSZIkSZIkSZIkSZIkSZIkKZL/A7Pa2uHgwJKCAAAAAElFTkSuQmCC\">"
      ],
      "text/plain": [
       "<IPython.core.display.HTML object>"
      ]
     },
     "metadata": {},
     "output_type": "display_data"
    },
    {
     "data": {
      "text/plain": [
       "[<matplotlib.lines.Line2D at 0x7f469ec40470>]"
      ]
     },
     "execution_count": 15,
     "metadata": {},
     "output_type": "execute_result"
    }
   ],
   "source": [
    "plot(bb)"
   ]
  },
  {
   "cell_type": "code",
   "execution_count": null,
   "metadata": {
    "collapsed": true
   },
   "outputs": [],
   "source": []
  },
  {
   "cell_type": "code",
   "execution_count": 16,
   "metadata": {
    "collapsed": false
   },
   "outputs": [
    {
     "data": {
      "text/plain": [
       "array([ 1.2,  3. ,  5. ,  5.6])"
      ]
     },
     "execution_count": 16,
     "metadata": {},
     "output_type": "execute_result"
    }
   ],
   "source": [
    "np.array([1.2, 3, 5, 5.6])"
   ]
  },
  {
   "cell_type": "code",
   "execution_count": 17,
   "metadata": {
    "collapsed": false
   },
   "outputs": [
    {
     "data": {
      "text/plain": [
       "array(['1', 'a'], \n",
       "      dtype='<U21')"
      ]
     },
     "execution_count": 17,
     "metadata": {},
     "output_type": "execute_result"
    }
   ],
   "source": [
    "np.array([1, 'a'])"
   ]
  },
  {
   "cell_type": "code",
   "execution_count": 18,
   "metadata": {
    "collapsed": false
   },
   "outputs": [
    {
     "name": "stdout",
     "output_type": "stream",
     "text": [
      "[ 33.8  41.   44.6  46.4]\n"
     ]
    }
   ],
   "source": [
    "print(a * 9/5 + 32)"
   ]
  },
  {
   "cell_type": "code",
   "execution_count": 19,
   "metadata": {
    "collapsed": false
   },
   "outputs": [
    {
     "data": {
      "text/plain": [
       "array([0, 1, 2, 3, 4, 5, 6, 7, 8, 9])"
      ]
     },
     "execution_count": 19,
     "metadata": {},
     "output_type": "execute_result"
    }
   ],
   "source": [
    "np.arange(10)"
   ]
  },
  {
   "cell_type": "code",
   "execution_count": 20,
   "metadata": {
    "collapsed": false
   },
   "outputs": [
    {
     "data": {
      "text/plain": [
       "array([5, 6, 7, 8, 9])"
      ]
     },
     "execution_count": 20,
     "metadata": {},
     "output_type": "execute_result"
    }
   ],
   "source": [
    "np.arange(5, 10)"
   ]
  },
  {
   "cell_type": "code",
   "execution_count": 21,
   "metadata": {
    "collapsed": false
   },
   "outputs": [
    {
     "data": {
      "text/plain": [
       "array([1, 3, 5, 7, 9])"
      ]
     },
     "execution_count": 21,
     "metadata": {},
     "output_type": "execute_result"
    }
   ],
   "source": [
    "np.arange(1, 10, 2)"
   ]
  },
  {
   "cell_type": "code",
   "execution_count": null,
   "metadata": {
    "collapsed": true
   },
   "outputs": [],
   "source": []
  },
  {
   "cell_type": "markdown",
   "metadata": {},
   "source": [
    "return 50 linearly spaced vector sample"
   ]
  },
  {
   "cell_type": "code",
   "execution_count": 22,
   "metadata": {
    "collapsed": false
   },
   "outputs": [
    {
     "data": {
      "text/plain": [
       "array([  1.        ,   1.18367347,   1.36734694,   1.55102041,\n",
       "         1.73469388,   1.91836735,   2.10204082,   2.28571429,\n",
       "         2.46938776,   2.65306122,   2.83673469,   3.02040816,\n",
       "         3.20408163,   3.3877551 ,   3.57142857,   3.75510204,\n",
       "         3.93877551,   4.12244898,   4.30612245,   4.48979592,\n",
       "         4.67346939,   4.85714286,   5.04081633,   5.2244898 ,\n",
       "         5.40816327,   5.59183673,   5.7755102 ,   5.95918367,\n",
       "         6.14285714,   6.32653061,   6.51020408,   6.69387755,\n",
       "         6.87755102,   7.06122449,   7.24489796,   7.42857143,\n",
       "         7.6122449 ,   7.79591837,   7.97959184,   8.16326531,\n",
       "         8.34693878,   8.53061224,   8.71428571,   8.89795918,\n",
       "         9.08163265,   9.26530612,   9.44897959,   9.63265306,\n",
       "         9.81632653,  10.        ])"
      ]
     },
     "execution_count": 22,
     "metadata": {},
     "output_type": "execute_result"
    }
   ],
   "source": [
    "np.linspace(1, 10)"
   ]
  },
  {
   "cell_type": "code",
   "execution_count": 25,
   "metadata": {
    "collapsed": false
   },
   "outputs": [],
   "source": [
    "ll = np.linspace(1, 10)"
   ]
  },
  {
   "cell_type": "code",
   "execution_count": 26,
   "metadata": {
    "collapsed": false
   },
   "outputs": [
    {
     "data": {
      "text/plain": [
       "50"
      ]
     },
     "execution_count": 26,
     "metadata": {},
     "output_type": "execute_result"
    }
   ],
   "source": [
    "len(ll)"
   ]
  },
  {
   "cell_type": "code",
   "execution_count": 29,
   "metadata": {
    "collapsed": false
   },
   "outputs": [
    {
     "data": {
      "text/plain": [
       "array([  1. ,   1.9,   2.8,   3.7,   4.6,   5.5,   6.4,   7.3,   8.2,\n",
       "         9.1,  10. ])"
      ]
     },
     "execution_count": 29,
     "metadata": {},
     "output_type": "execute_result"
    }
   ],
   "source": [
    "np.linspace(1, 10, num=11)"
   ]
  },
  {
   "cell_type": "code",
   "execution_count": 30,
   "metadata": {
    "collapsed": false
   },
   "outputs": [
    {
     "data": {
      "text/plain": [
       "array([ 1.        ,  2.28571429,  3.57142857,  4.85714286,  6.14285714,\n",
       "        7.42857143,  8.71428571])"
      ]
     },
     "execution_count": 30,
     "metadata": {},
     "output_type": "execute_result"
    }
   ],
   "source": [
    "np.linspace(1, 10, num=7, endpoint=False)"
   ]
  },
  {
   "cell_type": "code",
   "execution_count": 32,
   "metadata": {
    "collapsed": false
   },
   "outputs": [
    {
     "data": {
      "text/plain": [
       "(array([  1.        ,   2.28571429,   3.57142857,   4.85714286,\n",
       "          6.14285714,   7.42857143,   8.71428571,  10.        ]),\n",
       " 1.2857142857142858)"
      ]
     },
     "execution_count": 32,
     "metadata": {},
     "output_type": "execute_result"
    }
   ],
   "source": [
    "# returns step value as well\n",
    "np.linspace(1, 10, num=8, retstep=True) "
   ]
  },
  {
   "cell_type": "code",
   "execution_count": 33,
   "metadata": {
    "collapsed": false
   },
   "outputs": [
    {
     "data": {
      "text/plain": [
       "3.571428571428571"
      ]
     },
     "execution_count": 33,
     "metadata": {},
     "output_type": "execute_result"
    }
   ],
   "source": [
    "2.2857142857142858 + 1.2857142857142858"
   ]
  },
  {
   "cell_type": "code",
   "execution_count": null,
   "metadata": {
    "collapsed": true
   },
   "outputs": [],
   "source": []
  },
  {
   "cell_type": "code",
   "execution_count": 34,
   "metadata": {
    "collapsed": true
   },
   "outputs": [],
   "source": [
    "samples, spacing = np.linspace(1, 10, num=5, retstep=True)"
   ]
  },
  {
   "cell_type": "code",
   "execution_count": 35,
   "metadata": {
    "collapsed": false
   },
   "outputs": [
    {
     "data": {
      "text/plain": [
       "array([  1.  ,   3.25,   5.5 ,   7.75,  10.  ])"
      ]
     },
     "execution_count": 35,
     "metadata": {},
     "output_type": "execute_result"
    }
   ],
   "source": [
    "samples"
   ]
  },
  {
   "cell_type": "code",
   "execution_count": 36,
   "metadata": {
    "collapsed": false
   },
   "outputs": [
    {
     "data": {
      "text/plain": [
       "2.25"
      ]
     },
     "execution_count": 36,
     "metadata": {},
     "output_type": "execute_result"
    }
   ],
   "source": [
    "spacing"
   ]
  },
  {
   "cell_type": "code",
   "execution_count": null,
   "metadata": {
    "collapsed": true
   },
   "outputs": [],
   "source": []
  },
  {
   "cell_type": "code",
   "execution_count": 37,
   "metadata": {
    "collapsed": false
   },
   "outputs": [
    {
     "data": {
      "text/plain": [
       "array(42)"
      ]
     },
     "execution_count": 37,
     "metadata": {},
     "output_type": "execute_result"
    }
   ],
   "source": [
    "np.array(42)"
   ]
  },
  {
   "cell_type": "code",
   "execution_count": null,
   "metadata": {
    "collapsed": true
   },
   "outputs": [],
   "source": []
  },
  {
   "cell_type": "code",
   "execution_count": 38,
   "metadata": {
    "collapsed": true
   },
   "outputs": [],
   "source": [
    "bb = np.array([[1, 5, 88, 91], [87, 54, 32, 25]])"
   ]
  },
  {
   "cell_type": "code",
   "execution_count": 39,
   "metadata": {
    "collapsed": false
   },
   "outputs": [
    {
     "data": {
      "text/plain": [
       "array([[ 1,  5, 88, 91],\n",
       "       [87, 54, 32, 25]])"
      ]
     },
     "execution_count": 39,
     "metadata": {},
     "output_type": "execute_result"
    }
   ],
   "source": [
    "bb"
   ]
  },
  {
   "cell_type": "code",
   "execution_count": 41,
   "metadata": {
    "collapsed": false
   },
   "outputs": [
    {
     "data": {
      "text/plain": [
       "2"
      ]
     },
     "execution_count": 41,
     "metadata": {},
     "output_type": "execute_result"
    }
   ],
   "source": [
    "bb.ndim"
   ]
  },
  {
   "cell_type": "code",
   "execution_count": 42,
   "metadata": {
    "collapsed": false
   },
   "outputs": [
    {
     "data": {
      "text/plain": [
       "1"
      ]
     },
     "execution_count": 42,
     "metadata": {},
     "output_type": "execute_result"
    }
   ],
   "source": [
    "samples.ndim"
   ]
  },
  {
   "cell_type": "code",
   "execution_count": 43,
   "metadata": {
    "collapsed": false
   },
   "outputs": [
    {
     "data": {
      "text/plain": [
       "0"
      ]
     },
     "execution_count": 43,
     "metadata": {},
     "output_type": "execute_result"
    }
   ],
   "source": [
    "np.array(42).ndim"
   ]
  },
  {
   "cell_type": "code",
   "execution_count": 44,
   "metadata": {
    "collapsed": false
   },
   "outputs": [
    {
     "data": {
      "text/plain": [
       "(2, 4)"
      ]
     },
     "execution_count": 44,
     "metadata": {},
     "output_type": "execute_result"
    }
   ],
   "source": [
    "np.shape(bb)"
   ]
  },
  {
   "cell_type": "code",
   "execution_count": 45,
   "metadata": {
    "collapsed": false
   },
   "outputs": [
    {
     "data": {
      "text/plain": [
       "(2, 4)"
      ]
     },
     "execution_count": 45,
     "metadata": {},
     "output_type": "execute_result"
    }
   ],
   "source": [
    "bb.shape"
   ]
  },
  {
   "cell_type": "code",
   "execution_count": null,
   "metadata": {
    "collapsed": true
   },
   "outputs": [],
   "source": []
  },
  {
   "cell_type": "code",
   "execution_count": 46,
   "metadata": {
    "collapsed": false
   },
   "outputs": [
    {
     "data": {
      "text/plain": [
       "array([[ 1,  5, 88, 91],\n",
       "       [87, 54, 32, 25]])"
      ]
     },
     "execution_count": 46,
     "metadata": {},
     "output_type": "execute_result"
    }
   ],
   "source": [
    "bb"
   ]
  },
  {
   "cell_type": "code",
   "execution_count": 47,
   "metadata": {
    "collapsed": true
   },
   "outputs": [],
   "source": [
    "bb.shape = (1, 8)"
   ]
  },
  {
   "cell_type": "code",
   "execution_count": 48,
   "metadata": {
    "collapsed": false
   },
   "outputs": [
    {
     "data": {
      "text/plain": [
       "array([[ 1,  5, 88, 91, 87, 54, 32, 25]])"
      ]
     },
     "execution_count": 48,
     "metadata": {},
     "output_type": "execute_result"
    }
   ],
   "source": [
    "bb"
   ]
  },
  {
   "cell_type": "code",
   "execution_count": null,
   "metadata": {
    "collapsed": true
   },
   "outputs": [],
   "source": []
  },
  {
   "cell_type": "code",
   "execution_count": null,
   "metadata": {
    "collapsed": true
   },
   "outputs": [],
   "source": []
  },
  {
   "cell_type": "code",
   "execution_count": null,
   "metadata": {
    "collapsed": true
   },
   "outputs": [],
   "source": []
  },
  {
   "cell_type": "code",
   "execution_count": null,
   "metadata": {
    "collapsed": true
   },
   "outputs": [],
   "source": []
  },
  {
   "cell_type": "code",
   "execution_count": null,
   "metadata": {
    "collapsed": true
   },
   "outputs": [],
   "source": []
  }
 ],
 "metadata": {
  "kernelspec": {
   "display_name": "Python 3",
   "language": "python",
   "name": "python3"
  },
  "language_info": {
   "codemirror_mode": {
    "name": "ipython",
    "version": 3
   },
   "file_extension": ".py",
   "mimetype": "text/x-python",
   "name": "python",
   "nbconvert_exporter": "python",
   "pygments_lexer": "ipython3",
   "version": "3.5.1"
  }
 },
 "nbformat": 4,
 "nbformat_minor": 0
}
