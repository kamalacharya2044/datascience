{
 "cells": [
  {
   "cell_type": "markdown",
   "metadata": {},
   "source": [
    "# Templating and Jinja2\n",
    "---"
   ]
  },
  {
   "cell_type": "markdown",
   "metadata": {},
   "source": [
    "```html\n",
    "<div class=\"simplelist\">\n",
    "    <ul>\n",
    "        <li>Item 1</li>\n",
    "        <li>Item 2</li>\n",
    "        <li>Item 3</li>\n",
    "    </ul>\n",
    "</div>\n",
    "```"
   ]
  },
  {
   "cell_type": "markdown",
   "metadata": {},
   "source": [
    "<div class=\"simplelist\">\n",
    "    <ul>\n",
    "        <li>Item 1</li>\n",
    "        <li>Item 2</li>\n",
    "        <li>Item 3</li>\n",
    "    </ul>\n",
    "</div>"
   ]
  },
  {
   "cell_type": "markdown",
   "metadata": {},
   "source": [
    "```html\n",
    "<table>\n",
    "    <thead>\n",
    "        <tr>\n",
    "            <th>S.No</th>\n",
    "            <th>Name</th>\n",
    "            <th>Score</th>\n",
    "         </tr>\n",
    "     </thead>\n",
    "     <tbody>\n",
    "         <tr>\n",
    "             <td>1</td>\n",
    "             <td>Team 1</td>\n",
    "             <td>30</td>\n",
    "          </tr>\n",
    "          <tr>\n",
    "             <td>2</td>\n",
    "             <td>Team 2</td>\n",
    "             <td>20</td>\n",
    "          </tr>\n",
    "      </tbody>\n",
    "</table>\n",
    "```"
   ]
  },
  {
   "cell_type": "markdown",
   "metadata": {},
   "source": [
    "<table>\n",
    "    <thead>\n",
    "        <tr>\n",
    "            <th>S.No</th>\n",
    "            <th>Name</th>\n",
    "            <th>Score</th>\n",
    "         </tr>\n",
    "     </thead>\n",
    "     <tbody>\n",
    "         <tr>\n",
    "             <td>1</td>\n",
    "             <td>Team 1</td>\n",
    "             <td>30</td>\n",
    "          </tr>\n",
    "          <tr>\n",
    "             <td>2</td>\n",
    "             <td>Team 2</td>\n",
    "             <td>20</td>\n",
    "          </tr>\n",
    "      </tbody>\n",
    "</table>"
   ]
  },
  {
   "cell_type": "code",
   "execution_count": 1,
   "metadata": {
    "collapsed": true
   },
   "outputs": [],
   "source": [
    "from jinja2 import Template"
   ]
  },
  {
   "cell_type": "code",
   "execution_count": 2,
   "metadata": {
    "collapsed": true
   },
   "outputs": [],
   "source": [
    "t = Template('Hello {{name}}!')"
   ]
  },
  {
   "cell_type": "code",
   "execution_count": 3,
   "metadata": {},
   "outputs": [
    {
     "data": {
      "text/plain": [
       "<Template memory:7fb3d4425588>"
      ]
     },
     "execution_count": 3,
     "metadata": {},
     "output_type": "execute_result"
    }
   ],
   "source": [
    "t"
   ]
  },
  {
   "cell_type": "code",
   "execution_count": 4,
   "metadata": {},
   "outputs": [
    {
     "data": {
      "text/plain": [
       "'Hello World!'"
      ]
     },
     "execution_count": 4,
     "metadata": {},
     "output_type": "execute_result"
    }
   ],
   "source": [
    "t.render(name='World')"
   ]
  },
  {
   "cell_type": "code",
   "execution_count": 5,
   "metadata": {
    "collapsed": true
   },
   "outputs": [],
   "source": [
    "t1 = Template('Hello {% if value > 5 %}{{ value }}{% endif %}!')"
   ]
  },
  {
   "cell_type": "code",
   "execution_count": 6,
   "metadata": {},
   "outputs": [
    {
     "data": {
      "text/plain": [
       "'Hello !'"
      ]
     },
     "execution_count": 6,
     "metadata": {},
     "output_type": "execute_result"
    }
   ],
   "source": [
    "t1.render(value=4)"
   ]
  },
  {
   "cell_type": "code",
   "execution_count": 7,
   "metadata": {},
   "outputs": [
    {
     "data": {
      "text/plain": [
       "'Hello 6!'"
      ]
     },
     "execution_count": 7,
     "metadata": {},
     "output_type": "execute_result"
    }
   ],
   "source": [
    "t1.render(value=6)"
   ]
  },
  {
   "cell_type": "code",
   "execution_count": 8,
   "metadata": {
    "collapsed": true
   },
   "outputs": [],
   "source": [
    "tpl ='''\n",
    "<table>\n",
    "    <thead>\n",
    "        <tr>\n",
    "            <th>S.No</th>\n",
    "            <th>Name</th>\n",
    "            <th>Score</th>\n",
    "         </tr>\n",
    "     </thead>\n",
    "     <tbody>\n",
    "         {% for row in data %}\n",
    "         <tr>\n",
    "             <td>1</td>\n",
    "             <td>Team 1</td>\n",
    "             <td>30</td>\n",
    "          </tr>\n",
    "          {% endfor %}\n",
    "      </tbody>\n",
    "</table>\n",
    "'''"
   ]
  },
  {
   "cell_type": "code",
   "execution_count": 10,
   "metadata": {
    "collapsed": true
   },
   "outputs": [],
   "source": [
    "from IPython.display import HTML"
   ]
  },
  {
   "cell_type": "code",
   "execution_count": 11,
   "metadata": {},
   "outputs": [
    {
     "data": {
      "text/plain": [
       "'\\n<table>\\n    <thead>\\n        <tr>\\n            <th>S.No</th>\\n            <th>Name</th>\\n            <th>Score</th>\\n         </tr>\\n     </thead>\\n     <tbody>\\n         \\n         <tr>\\n             <td>1</td>\\n             <td>Team 1</td>\\n             <td>30</td>\\n          </tr>\\n          \\n         <tr>\\n             <td>1</td>\\n             <td>Team 1</td>\\n             <td>30</td>\\n          </tr>\\n          \\n         <tr>\\n             <td>1</td>\\n             <td>Team 1</td>\\n             <td>30</td>\\n          </tr>\\n          \\n         <tr>\\n             <td>1</td>\\n             <td>Team 1</td>\\n             <td>30</td>\\n          </tr>\\n          \\n         <tr>\\n             <td>1</td>\\n             <td>Team 1</td>\\n             <td>30</td>\\n          </tr>\\n          \\n      </tbody>\\n</table>'"
      ]
     },
     "execution_count": 11,
     "metadata": {},
     "output_type": "execute_result"
    }
   ],
   "source": [
    "Template(tpl).render(data=range(0, 5))"
   ]
  },
  {
   "cell_type": "code",
   "execution_count": 13,
   "metadata": {},
   "outputs": [
    {
     "data": {
      "text/html": [
       "\n",
       "<table>\n",
       "    <thead>\n",
       "        <tr>\n",
       "            <th>S.No</th>\n",
       "            <th>Name</th>\n",
       "            <th>Score</th>\n",
       "         </tr>\n",
       "     </thead>\n",
       "     <tbody>\n",
       "         \n",
       "         <tr>\n",
       "             <td>1</td>\n",
       "             <td>Team 1</td>\n",
       "             <td>30</td>\n",
       "          </tr>\n",
       "          \n",
       "         <tr>\n",
       "             <td>1</td>\n",
       "             <td>Team 1</td>\n",
       "             <td>30</td>\n",
       "          </tr>\n",
       "          \n",
       "         <tr>\n",
       "             <td>1</td>\n",
       "             <td>Team 1</td>\n",
       "             <td>30</td>\n",
       "          </tr>\n",
       "          \n",
       "         <tr>\n",
       "             <td>1</td>\n",
       "             <td>Team 1</td>\n",
       "             <td>30</td>\n",
       "          </tr>\n",
       "          \n",
       "         <tr>\n",
       "             <td>1</td>\n",
       "             <td>Team 1</td>\n",
       "             <td>30</td>\n",
       "          </tr>\n",
       "          \n",
       "      </tbody>\n",
       "</table>"
      ],
      "text/plain": [
       "<IPython.core.display.HTML object>"
      ]
     },
     "execution_count": 13,
     "metadata": {},
     "output_type": "execute_result"
    }
   ],
   "source": [
    "HTML(_)"
   ]
  },
  {
   "cell_type": "code",
   "execution_count": 22,
   "metadata": {
    "collapsed": true
   },
   "outputs": [],
   "source": [
    "tpl ='''\n",
    "<table>\n",
    "    <thead>\n",
    "        <tr>\n",
    "            <th>S.No</th>\n",
    "            <th>Name</th>\n",
    "            <th>Score</th>\n",
    "            <th>Performance</th>\n",
    "         </tr>\n",
    "     </thead>\n",
    "     <tbody>\n",
    "         {% for row in data %}\n",
    "         <tr>\n",
    "             <td>{{row.id}}</td>\n",
    "             <td>{{row.name}}</td>\n",
    "             <td>{{row.score}}</td>\n",
    "             <td>\n",
    "                 {% if row.score < 30 %}\n",
    "                     Very Bad\n",
    "                  {% elif row.score < 50 %}\n",
    "                      Bad\n",
    "                   {% elif row.score > 80 %}\n",
    "                       Good\n",
    "                    {% else %}\n",
    "                        Very Good\n",
    "                    {% endif %}\n",
    "             </td>\n",
    "          </tr>\n",
    "          {% endfor %}\n",
    "      </tbody>\n",
    "</table>\n",
    "'''"
   ]
  },
  {
   "cell_type": "code",
   "execution_count": 15,
   "metadata": {
    "collapsed": true
   },
   "outputs": [],
   "source": [
    "from random import randint"
   ]
  },
  {
   "cell_type": "code",
   "execution_count": 18,
   "metadata": {
    "collapsed": true
   },
   "outputs": [],
   "source": [
    "records = [{'id': i + 1, 'name': 'Team ' + str(i + 1), 'score': randint(0, 100)} for i in range(0, 10)]"
   ]
  },
  {
   "cell_type": "code",
   "execution_count": 19,
   "metadata": {},
   "outputs": [
    {
     "data": {
      "text/plain": [
       "[{'id': 1, 'name': 'Team 1', 'score': 98},\n",
       " {'id': 2, 'name': 'Team 2', 'score': 61},\n",
       " {'id': 3, 'name': 'Team 3', 'score': 14},\n",
       " {'id': 4, 'name': 'Team 4', 'score': 44},\n",
       " {'id': 5, 'name': 'Team 5', 'score': 79},\n",
       " {'id': 6, 'name': 'Team 6', 'score': 45},\n",
       " {'id': 7, 'name': 'Team 7', 'score': 66},\n",
       " {'id': 8, 'name': 'Team 8', 'score': 41},\n",
       " {'id': 9, 'name': 'Team 9', 'score': 46},\n",
       " {'id': 10, 'name': 'Team 10', 'score': 20}]"
      ]
     },
     "execution_count": 19,
     "metadata": {},
     "output_type": "execute_result"
    }
   ],
   "source": [
    "records"
   ]
  },
  {
   "cell_type": "code",
   "execution_count": 23,
   "metadata": {},
   "outputs": [
    {
     "data": {
      "text/plain": [
       "'\\n<table>\\n    <thead>\\n        <tr>\\n            <th>S.No</th>\\n            <th>Name</th>\\n            <th>Score</th>\\n            <th>Performance</th>\\n         </tr>\\n     </thead>\\n     <tbody>\\n         \\n         <tr>\\n             <td>1</td>\\n             <td>Team 1</td>\\n             <td>98</td>\\n             <td>\\n                 \\n                       Good\\n                    \\n             </td>\\n          </tr>\\n          \\n         <tr>\\n             <td>2</td>\\n             <td>Team 2</td>\\n             <td>61</td>\\n             <td>\\n                 \\n                        Very Good\\n                    \\n             </td>\\n          </tr>\\n          \\n         <tr>\\n             <td>3</td>\\n             <td>Team 3</td>\\n             <td>14</td>\\n             <td>\\n                 \\n                     Very Bad\\n                  \\n             </td>\\n          </tr>\\n          \\n         <tr>\\n             <td>4</td>\\n             <td>Team 4</td>\\n             <td>44</td>\\n             <td>\\n                 \\n                      Bad\\n                   \\n             </td>\\n          </tr>\\n          \\n         <tr>\\n             <td>5</td>\\n             <td>Team 5</td>\\n             <td>79</td>\\n             <td>\\n                 \\n                        Very Good\\n                    \\n             </td>\\n          </tr>\\n          \\n         <tr>\\n             <td>6</td>\\n             <td>Team 6</td>\\n             <td>45</td>\\n             <td>\\n                 \\n                      Bad\\n                   \\n             </td>\\n          </tr>\\n          \\n         <tr>\\n             <td>7</td>\\n             <td>Team 7</td>\\n             <td>66</td>\\n             <td>\\n                 \\n                        Very Good\\n                    \\n             </td>\\n          </tr>\\n          \\n         <tr>\\n             <td>8</td>\\n             <td>Team 8</td>\\n             <td>41</td>\\n             <td>\\n                 \\n                      Bad\\n                   \\n             </td>\\n          </tr>\\n          \\n         <tr>\\n             <td>9</td>\\n             <td>Team 9</td>\\n             <td>46</td>\\n             <td>\\n                 \\n                      Bad\\n                   \\n             </td>\\n          </tr>\\n          \\n         <tr>\\n             <td>10</td>\\n             <td>Team 10</td>\\n             <td>20</td>\\n             <td>\\n                 \\n                     Very Bad\\n                  \\n             </td>\\n          </tr>\\n          \\n      </tbody>\\n</table>'"
      ]
     },
     "execution_count": 23,
     "metadata": {},
     "output_type": "execute_result"
    }
   ],
   "source": [
    "Template(tpl).render(data=records)"
   ]
  },
  {
   "cell_type": "code",
   "execution_count": 24,
   "metadata": {},
   "outputs": [
    {
     "data": {
      "text/html": [
       "\n",
       "<table>\n",
       "    <thead>\n",
       "        <tr>\n",
       "            <th>S.No</th>\n",
       "            <th>Name</th>\n",
       "            <th>Score</th>\n",
       "            <th>Performance</th>\n",
       "         </tr>\n",
       "     </thead>\n",
       "     <tbody>\n",
       "         \n",
       "         <tr>\n",
       "             <td>1</td>\n",
       "             <td>Team 1</td>\n",
       "             <td>98</td>\n",
       "             <td>\n",
       "                 \n",
       "                       Good\n",
       "                    \n",
       "             </td>\n",
       "          </tr>\n",
       "          \n",
       "         <tr>\n",
       "             <td>2</td>\n",
       "             <td>Team 2</td>\n",
       "             <td>61</td>\n",
       "             <td>\n",
       "                 \n",
       "                        Very Good\n",
       "                    \n",
       "             </td>\n",
       "          </tr>\n",
       "          \n",
       "         <tr>\n",
       "             <td>3</td>\n",
       "             <td>Team 3</td>\n",
       "             <td>14</td>\n",
       "             <td>\n",
       "                 \n",
       "                     Very Bad\n",
       "                  \n",
       "             </td>\n",
       "          </tr>\n",
       "          \n",
       "         <tr>\n",
       "             <td>4</td>\n",
       "             <td>Team 4</td>\n",
       "             <td>44</td>\n",
       "             <td>\n",
       "                 \n",
       "                      Bad\n",
       "                   \n",
       "             </td>\n",
       "          </tr>\n",
       "          \n",
       "         <tr>\n",
       "             <td>5</td>\n",
       "             <td>Team 5</td>\n",
       "             <td>79</td>\n",
       "             <td>\n",
       "                 \n",
       "                        Very Good\n",
       "                    \n",
       "             </td>\n",
       "          </tr>\n",
       "          \n",
       "         <tr>\n",
       "             <td>6</td>\n",
       "             <td>Team 6</td>\n",
       "             <td>45</td>\n",
       "             <td>\n",
       "                 \n",
       "                      Bad\n",
       "                   \n",
       "             </td>\n",
       "          </tr>\n",
       "          \n",
       "         <tr>\n",
       "             <td>7</td>\n",
       "             <td>Team 7</td>\n",
       "             <td>66</td>\n",
       "             <td>\n",
       "                 \n",
       "                        Very Good\n",
       "                    \n",
       "             </td>\n",
       "          </tr>\n",
       "          \n",
       "         <tr>\n",
       "             <td>8</td>\n",
       "             <td>Team 8</td>\n",
       "             <td>41</td>\n",
       "             <td>\n",
       "                 \n",
       "                      Bad\n",
       "                   \n",
       "             </td>\n",
       "          </tr>\n",
       "          \n",
       "         <tr>\n",
       "             <td>9</td>\n",
       "             <td>Team 9</td>\n",
       "             <td>46</td>\n",
       "             <td>\n",
       "                 \n",
       "                      Bad\n",
       "                   \n",
       "             </td>\n",
       "          </tr>\n",
       "          \n",
       "         <tr>\n",
       "             <td>10</td>\n",
       "             <td>Team 10</td>\n",
       "             <td>20</td>\n",
       "             <td>\n",
       "                 \n",
       "                     Very Bad\n",
       "                  \n",
       "             </td>\n",
       "          </tr>\n",
       "          \n",
       "      </tbody>\n",
       "</table>"
      ],
      "text/plain": [
       "<IPython.core.display.HTML object>"
      ]
     },
     "execution_count": 24,
     "metadata": {},
     "output_type": "execute_result"
    }
   ],
   "source": [
    "HTML(_)"
   ]
  },
  {
   "cell_type": "code",
   "execution_count": null,
   "metadata": {
    "collapsed": true
   },
   "outputs": [],
   "source": []
  }
 ],
 "metadata": {
  "kernelspec": {
   "display_name": "Python 3",
   "language": "python",
   "name": "python3"
  },
  "language_info": {
   "codemirror_mode": {
    "name": "ipython",
    "version": 3
   },
   "file_extension": ".py",
   "mimetype": "text/x-python",
   "name": "python",
   "nbconvert_exporter": "python",
   "pygments_lexer": "ipython3",
   "version": "3.6.2"
  }
 },
 "nbformat": 4,
 "nbformat_minor": 2
}
